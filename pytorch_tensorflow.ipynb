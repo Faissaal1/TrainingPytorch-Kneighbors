{
  "nbformat": 4,
  "nbformat_minor": 0,
  "metadata": {
    "colab": {
      "provenance": []
    },
    "kernelspec": {
      "name": "python3",
      "display_name": "Python 3"
    },
    "language_info": {
      "name": "python"
    }
  },
  "cells": [
    {
      "cell_type": "code",
      "execution_count": null,
      "metadata": {
        "id": "UHWG7M3qBbc1"
      },
      "outputs": [],
      "source": [
        "import matplotlib.pyplot as plt\n",
        "import torch\n",
        "from torch import nn\n",
        "from torch.nn import functional as F\n",
        "from torchvision import  datasets, transforms"
      ]
    },
    {
      "cell_type": "code",
      "source": [],
      "metadata": {
        "id": "H55UkAjRXhfw"
      },
      "execution_count": null,
      "outputs": []
    },
    {
      "cell_type": "code",
      "source": [
        "x = torch.tensor(3., requires_grad=True)\n",
        "y = torch.tensor(3., requires_grad=True)"
      ],
      "metadata": {
        "id": "DNixAbqSBvBD"
      },
      "execution_count": null,
      "outputs": []
    },
    {
      "cell_type": "code",
      "source": [
        "def f(x,y):\n",
        "   return x**2 + y**2"
      ],
      "metadata": {
        "id": "ERTfAcE8Ca4r"
      },
      "execution_count": null,
      "outputs": []
    },
    {
      "cell_type": "code",
      "source": [
        "x.grad"
      ],
      "metadata": {
        "id": "DkzxVjJEFDny"
      },
      "execution_count": null,
      "outputs": []
    },
    {
      "cell_type": "code",
      "source": [
        "lr = 1e-1"
      ],
      "metadata": {
        "id": "uruhiwTeFVcx"
      },
      "execution_count": null,
      "outputs": []
    },
    {
      "cell_type": "code",
      "source": [
        "for _ in range(100):\n",
        "  res = f(x,y)\n",
        "  res.backward()\n",
        "  with torch.no_grad():\n",
        "    x -= lr*x.grad\n",
        "    y -= lr*y.grad\n",
        "  x.grad.zero_(), y.grad.zero_()\n",
        "\n",
        "\n",
        "\n"
      ],
      "metadata": {
        "id": "UXuTDsg3FNxK"
      },
      "execution_count": null,
      "outputs": []
    },
    {
      "cell_type": "code",
      "source": [
        "print(f'x= {x} \\ny={y} \\nres = {res}')"
      ],
      "metadata": {
        "colab": {
          "base_uri": "https://localhost:8080/"
        },
        "id": "Ef-kKwBFHfhC",
        "outputId": "58c80b62-de75-45e5-b918-97adac5696f6"
      },
      "execution_count": null,
      "outputs": [
        {
          "output_type": "stream",
          "name": "stdout",
          "text": [
            "x= -1.115760194792032e-31 \n",
            "y=1.442649234474188e-21 \n",
            "res = 3.2524137356979004e-42\n"
          ]
        }
      ]
    },
    {
      "cell_type": "code",
      "source": [
        "transforms = transforms.Compose([transforms.ToTensor(), transforms.Normalize(0.1307, 0.3087)])"
      ],
      "metadata": {
        "id": "aKf79gQhUu1I"
      },
      "execution_count": null,
      "outputs": []
    },
    {
      "cell_type": "code",
      "source": [
        "train_loader=  torch.utils.data.DataLoader(datasets.MNIST(\"/projet\",train=True ,transform=transforms, download=True), batch_size=32, shuffle = True)"
      ],
      "metadata": {
        "colab": {
          "base_uri": "https://localhost:8080/"
        },
        "id": "ApceAp8kLSbK",
        "outputId": "ede12c89-61bb-4b86-88cd-ccf368b971e8"
      },
      "execution_count": null,
      "outputs": [
        {
          "output_type": "stream",
          "name": "stdout",
          "text": [
            "Downloading http://yann.lecun.com/exdb/mnist/train-images-idx3-ubyte.gz\n",
            "Downloading http://yann.lecun.com/exdb/mnist/train-images-idx3-ubyte.gz to /projet/MNIST/raw/train-images-idx3-ubyte.gz\n"
          ]
        },
        {
          "output_type": "stream",
          "name": "stderr",
          "text": [
            "100%|██████████| 9912422/9912422 [00:00<00:00, 91739324.10it/s]\n"
          ]
        },
        {
          "output_type": "stream",
          "name": "stdout",
          "text": [
            "Extracting /projet/MNIST/raw/train-images-idx3-ubyte.gz to /projet/MNIST/raw\n",
            "\n",
            "Downloading http://yann.lecun.com/exdb/mnist/train-labels-idx1-ubyte.gz\n",
            "Downloading http://yann.lecun.com/exdb/mnist/train-labels-idx1-ubyte.gz to /projet/MNIST/raw/train-labels-idx1-ubyte.gz\n"
          ]
        },
        {
          "output_type": "stream",
          "name": "stderr",
          "text": [
            "100%|██████████| 28881/28881 [00:00<00:00, 84063632.08it/s]\n"
          ]
        },
        {
          "output_type": "stream",
          "name": "stdout",
          "text": [
            "Extracting /projet/MNIST/raw/train-labels-idx1-ubyte.gz to /projet/MNIST/raw\n",
            "\n",
            "Downloading http://yann.lecun.com/exdb/mnist/t10k-images-idx3-ubyte.gz\n",
            "Downloading http://yann.lecun.com/exdb/mnist/t10k-images-idx3-ubyte.gz to /projet/MNIST/raw/t10k-images-idx3-ubyte.gz\n"
          ]
        },
        {
          "output_type": "stream",
          "name": "stderr",
          "text": [
            "100%|██████████| 1648877/1648877 [00:00<00:00, 25164984.60it/s]\n"
          ]
        },
        {
          "output_type": "stream",
          "name": "stdout",
          "text": [
            "Extracting /projet/MNIST/raw/t10k-images-idx3-ubyte.gz to /projet/MNIST/raw\n",
            "\n",
            "Downloading http://yann.lecun.com/exdb/mnist/t10k-labels-idx1-ubyte.gz\n",
            "Downloading http://yann.lecun.com/exdb/mnist/t10k-labels-idx1-ubyte.gz to /projet/MNIST/raw/t10k-labels-idx1-ubyte.gz\n"
          ]
        },
        {
          "output_type": "stream",
          "name": "stderr",
          "text": [
            "100%|██████████| 4542/4542 [00:00<00:00, 16508257.16it/s]\n"
          ]
        },
        {
          "output_type": "stream",
          "name": "stdout",
          "text": [
            "Extracting /projet/MNIST/raw/t10k-labels-idx1-ubyte.gz to /projet/MNIST/raw\n",
            "\n"
          ]
        }
      ]
    },
    {
      "cell_type": "code",
      "source": [
        "test_loader=  torch.utils.data.DataLoader(datasets.MNIST(\"/projet\", train=False ,transform=transforms, download=True), batch_size=32, shuffle = True)"
      ],
      "metadata": {
        "id": "zj6A1IVDVYLI"
      },
      "execution_count": null,
      "outputs": []
    },
    {
      "cell_type": "code",
      "source": [
        "for data_batch , label_data in train_loader:\n",
        "  fig= plt.figure()\n",
        "  for i\n",
        "  print(data_batch.size(), label_data.size())\n",
        "  break"
      ],
      "metadata": {
        "colab": {
          "base_uri": "https://localhost:8080/"
        },
        "id": "Ov-ZbUU3WaS-",
        "outputId": "b4224cd6-330a-4d16-dc22-27b567cfa33c"
      },
      "execution_count": null,
      "outputs": [
        {
          "output_type": "stream",
          "name": "stdout",
          "text": [
            "torch.Size([32, 1, 28, 28]) torch.Size([32])\n"
          ]
        }
      ]
    },
    {
      "cell_type": "code",
      "source": [
        "from tensorflow.keras.utils import to_categorical\n",
        "from tensorflow.keras.models import Sequential\n",
        "from tensorflow.keras.layers import Dense\n",
        "from tensorflow.keras import optimizers\n",
        "from sklearn.model_selection import train_test_split\n",
        "\n",
        "import matplotlib.pyplot as plt\n",
        "%matplotlib inline\n",
        "from sklearn import datasets\n",
        "\n"
      ],
      "metadata": {
        "id": "uxaCXiskvqdu"
      },
      "execution_count": null,
      "outputs": []
    },
    {
      "cell_type": "code",
      "source": [
        "iris = datasets.load_iris()\n",
        "X= iris.data\n",
        "y= iris.target"
      ],
      "metadata": {
        "id": "AFYHRk__wQsu"
      },
      "execution_count": null,
      "outputs": []
    },
    {
      "cell_type": "code",
      "source": [
        "Y = to_categorical(y)"
      ],
      "metadata": {
        "id": "x07VPqQ-wbmV"
      },
      "execution_count": null,
      "outputs": []
    },
    {
      "cell_type": "code",
      "source": [
        "X_train, X_test, y_train, y_test = train_test_split(X,Y, test_size=0.25, random_state=42)"
      ],
      "metadata": {
        "id": "oKUEwn76wlUN"
      },
      "execution_count": null,
      "outputs": []
    },
    {
      "cell_type": "code",
      "source": [
        "def define_model():\n",
        "    model = Sequential()\n",
        "    model.add(Dense(50, input_dim=4, activation='relu'))\n",
        "    model.add(Dense(12, activation='relu'))\n",
        "    model.add(Dense(3, activation='softmax'))\n",
        "    return model\n"
      ],
      "metadata": {
        "id": "GM8BHD39wyek"
      },
      "execution_count": null,
      "outputs": []
    },
    {
      "cell_type": "code",
      "source": [
        "l_r = [0.2,0.1,0.03,0.01]"
      ],
      "metadata": {
        "id": "oenVtZW5xMk1"
      },
      "execution_count": null,
      "outputs": []
    },
    {
      "cell_type": "code",
      "source": [
        "plt.figure(figsize=(12,9))\n",
        "for e in range(len(l_r)):\n",
        "    sgd = optimizers.SGD(lr=l_r[e])\n",
        "\n",
        "    model = define_model()\n",
        "    model.compile(loss='categorical_crossentropy',optimizer=sgd, metrics=['accuracy'])\n",
        "    history=model.fit(X_train, y_train,validation_data=(X_test,y_test), epochs=20, batch_size=32)\n",
        "\n",
        "    _, accuracy = model.evaluate(X_test, y_test)\n",
        "    print('Learning Rate: %f Test Accuracy: %.2f' % (l_r[e],accuracy*100))\n",
        "\n",
        "    plt.subplot(2,2,e+1)\n",
        "    plt.plot(history.history['loss'], label='Training Loss')\n",
        "    plt.plot(history.history['val_loss'], label='Validation Loss')\n",
        "    plt.legend(loc='upper right')\n",
        "    plt.title('Learning Rate: %.2f' % (l_r[e]))"
      ],
      "metadata": {
        "colab": {
          "base_uri": "https://localhost:8080/",
          "height": 1000
        },
        "id": "AftnWXGGxSQ8",
        "outputId": "f95fbdcf-ade8-4e30-b01d-6414a37acfe3"
      },
      "execution_count": null,
      "outputs": [
        {
          "output_type": "stream",
          "name": "stderr",
          "text": [
            "WARNING:absl:`lr` is deprecated in Keras optimizer, please use `learning_rate` or use the legacy optimizer, e.g.,tf.keras.optimizers.legacy.SGD.\n"
          ]
        },
        {
          "output_type": "stream",
          "name": "stdout",
          "text": [
            "Epoch 1/20\n",
            "4/4 [==============================] - 1s 75ms/step - loss: 1.3878 - accuracy: 0.3125 - val_loss: 0.9507 - val_accuracy: 0.4211\n",
            "Epoch 2/20\n",
            "4/4 [==============================] - 0s 18ms/step - loss: 0.9705 - accuracy: 0.4464 - val_loss: 0.8956 - val_accuracy: 0.6842\n",
            "Epoch 3/20\n",
            "4/4 [==============================] - 0s 18ms/step - loss: 0.9102 - accuracy: 0.6518 - val_loss: 0.8600 - val_accuracy: 0.6579\n",
            "Epoch 4/20\n",
            "4/4 [==============================] - 0s 12ms/step - loss: 0.8779 - accuracy: 0.6339 - val_loss: 0.8427 - val_accuracy: 0.6842\n",
            "Epoch 5/20\n",
            "4/4 [==============================] - 0s 14ms/step - loss: 0.8508 - accuracy: 0.6518 - val_loss: 0.8126 - val_accuracy: 0.6579\n",
            "Epoch 6/20\n",
            "4/4 [==============================] - 0s 19ms/step - loss: 0.8262 - accuracy: 0.6518 - val_loss: 0.7841 - val_accuracy: 0.5526\n",
            "Epoch 7/20\n",
            "4/4 [==============================] - 0s 13ms/step - loss: 0.8040 - accuracy: 0.5446 - val_loss: 0.7640 - val_accuracy: 0.6316\n",
            "Epoch 8/20\n",
            "4/4 [==============================] - 0s 13ms/step - loss: 0.7855 - accuracy: 0.5804 - val_loss: 0.7469 - val_accuracy: 0.6842\n",
            "Epoch 9/20\n",
            "4/4 [==============================] - 0s 19ms/step - loss: 0.7701 - accuracy: 0.5982 - val_loss: 0.7317 - val_accuracy: 0.6579\n",
            "Epoch 10/20\n",
            "4/4 [==============================] - 0s 19ms/step - loss: 0.7532 - accuracy: 0.5893 - val_loss: 0.7084 - val_accuracy: 0.5789\n",
            "Epoch 11/20\n",
            "4/4 [==============================] - 0s 16ms/step - loss: 0.7325 - accuracy: 0.6250 - val_loss: 0.6869 - val_accuracy: 0.6842\n",
            "Epoch 12/20\n",
            "4/4 [==============================] - 0s 18ms/step - loss: 0.7109 - accuracy: 0.7232 - val_loss: 0.6647 - val_accuracy: 0.8421\n",
            "Epoch 13/20\n",
            "4/4 [==============================] - 0s 19ms/step - loss: 0.6940 - accuracy: 0.8393 - val_loss: 0.6463 - val_accuracy: 0.8684\n",
            "Epoch 14/20\n",
            "4/4 [==============================] - 0s 18ms/step - loss: 0.6785 - accuracy: 0.7946 - val_loss: 0.6298 - val_accuracy: 0.8421\n",
            "Epoch 15/20\n",
            "4/4 [==============================] - 0s 13ms/step - loss: 0.6670 - accuracy: 0.8482 - val_loss: 0.6165 - val_accuracy: 0.7105\n",
            "Epoch 16/20\n",
            "4/4 [==============================] - 0s 19ms/step - loss: 0.6542 - accuracy: 0.6607 - val_loss: 0.6014 - val_accuracy: 0.8421\n",
            "Epoch 17/20\n",
            "4/4 [==============================] - 0s 17ms/step - loss: 0.6429 - accuracy: 0.7500 - val_loss: 0.5893 - val_accuracy: 0.7895\n",
            "Epoch 18/20\n",
            "4/4 [==============================] - 0s 13ms/step - loss: 0.6320 - accuracy: 0.8214 - val_loss: 0.5774 - val_accuracy: 0.7895\n",
            "Epoch 19/20\n",
            "4/4 [==============================] - 0s 20ms/step - loss: 0.6204 - accuracy: 0.7143 - val_loss: 0.5674 - val_accuracy: 0.7632\n",
            "Epoch 20/20\n",
            "4/4 [==============================] - 0s 18ms/step - loss: 0.6100 - accuracy: 0.7411 - val_loss: 0.5570 - val_accuracy: 0.7895\n",
            "2/2 [==============================] - 0s 8ms/step - loss: 0.5570 - accuracy: 0.7895\n"
          ]
        },
        {
          "output_type": "stream",
          "name": "stderr",
          "text": [
            "WARNING:absl:`lr` is deprecated in Keras optimizer, please use `learning_rate` or use the legacy optimizer, e.g.,tf.keras.optimizers.legacy.SGD.\n"
          ]
        },
        {
          "output_type": "stream",
          "name": "stdout",
          "text": [
            "Learning Rate: 0.200000 Test Accuracy: 78.95\n",
            "Epoch 1/20\n",
            "4/4 [==============================] - 1s 67ms/step - loss: 0.9906 - accuracy: 0.3571 - val_loss: 0.8772 - val_accuracy: 0.5526\n",
            "Epoch 2/20\n",
            "4/4 [==============================] - 0s 19ms/step - loss: 0.8693 - accuracy: 0.5982 - val_loss: 0.8356 - val_accuracy: 0.7105\n",
            "Epoch 3/20\n",
            "4/4 [==============================] - 0s 13ms/step - loss: 0.8369 - accuracy: 0.6429 - val_loss: 0.7940 - val_accuracy: 0.7105\n",
            "Epoch 4/20\n",
            "4/4 [==============================] - 0s 15ms/step - loss: 0.8168 - accuracy: 0.6518 - val_loss: 0.7570 - val_accuracy: 0.7105\n",
            "Epoch 5/20\n",
            "4/4 [==============================] - 0s 13ms/step - loss: 0.7880 - accuracy: 0.6518 - val_loss: 0.7339 - val_accuracy: 0.7105\n",
            "Epoch 6/20\n",
            "4/4 [==============================] - 0s 12ms/step - loss: 0.7618 - accuracy: 0.6518 - val_loss: 0.7074 - val_accuracy: 0.7105\n",
            "Epoch 7/20\n",
            "4/4 [==============================] - 0s 13ms/step - loss: 0.7400 - accuracy: 0.6518 - val_loss: 0.6829 - val_accuracy: 0.7105\n",
            "Epoch 8/20\n",
            "4/4 [==============================] - 0s 18ms/step - loss: 0.7207 - accuracy: 0.6518 - val_loss: 0.6655 - val_accuracy: 0.7895\n",
            "Epoch 9/20\n",
            "4/4 [==============================] - 0s 19ms/step - loss: 0.7060 - accuracy: 0.7143 - val_loss: 0.6465 - val_accuracy: 0.7105\n",
            "Epoch 10/20\n",
            "4/4 [==============================] - 0s 20ms/step - loss: 0.6918 - accuracy: 0.7054 - val_loss: 0.6273 - val_accuracy: 0.7105\n",
            "Epoch 11/20\n",
            "4/4 [==============================] - 0s 14ms/step - loss: 0.6635 - accuracy: 0.6696 - val_loss: 0.6102 - val_accuracy: 0.7105\n",
            "Epoch 12/20\n",
            "4/4 [==============================] - 0s 19ms/step - loss: 0.6512 - accuracy: 0.6964 - val_loss: 0.5898 - val_accuracy: 0.7105\n",
            "Epoch 13/20\n",
            "4/4 [==============================] - 0s 19ms/step - loss: 0.6308 - accuracy: 0.7321 - val_loss: 0.5795 - val_accuracy: 0.7105\n",
            "Epoch 14/20\n",
            "4/4 [==============================] - 0s 13ms/step - loss: 0.6193 - accuracy: 0.6786 - val_loss: 0.5633 - val_accuracy: 0.7105\n",
            "Epoch 15/20\n",
            "4/4 [==============================] - 0s 13ms/step - loss: 0.6043 - accuracy: 0.7321 - val_loss: 0.5465 - val_accuracy: 0.7105\n",
            "Epoch 16/20\n",
            "4/4 [==============================] - 0s 18ms/step - loss: 0.5900 - accuracy: 0.7321 - val_loss: 0.5342 - val_accuracy: 0.7632\n",
            "Epoch 17/20\n",
            "4/4 [==============================] - 0s 19ms/step - loss: 0.5793 - accuracy: 0.7500 - val_loss: 0.5223 - val_accuracy: 0.7895\n",
            "Epoch 18/20\n",
            "4/4 [==============================] - 0s 13ms/step - loss: 0.5623 - accuracy: 0.7946 - val_loss: 0.5090 - val_accuracy: 0.8421\n",
            "Epoch 19/20\n",
            "4/4 [==============================] - 0s 13ms/step - loss: 0.5521 - accuracy: 0.8214 - val_loss: 0.5032 - val_accuracy: 0.8684\n",
            "Epoch 20/20\n",
            "4/4 [==============================] - 0s 13ms/step - loss: 0.5406 - accuracy: 0.8304 - val_loss: 0.4925 - val_accuracy: 0.9211\n",
            "2/2 [==============================] - 0s 8ms/step - loss: 0.4925 - accuracy: 0.9211\n"
          ]
        },
        {
          "output_type": "stream",
          "name": "stderr",
          "text": [
            "WARNING:absl:`lr` is deprecated in Keras optimizer, please use `learning_rate` or use the legacy optimizer, e.g.,tf.keras.optimizers.legacy.SGD.\n"
          ]
        },
        {
          "output_type": "stream",
          "name": "stdout",
          "text": [
            "Learning Rate: 0.100000 Test Accuracy: 92.11\n",
            "Epoch 1/20\n",
            "4/4 [==============================] - 1s 66ms/step - loss: 1.1955 - accuracy: 0.0000e+00 - val_loss: 1.1486 - val_accuracy: 0.0000e+00\n",
            "Epoch 2/20\n",
            "4/4 [==============================] - 0s 12ms/step - loss: 1.1409 - accuracy: 0.0000e+00 - val_loss: 1.1285 - val_accuracy: 0.1316\n",
            "Epoch 3/20\n",
            "4/4 [==============================] - 0s 19ms/step - loss: 1.1203 - accuracy: 0.2411 - val_loss: 1.1176 - val_accuracy: 0.2632\n",
            "Epoch 4/20\n",
            "4/4 [==============================] - 0s 18ms/step - loss: 1.1126 - accuracy: 0.3125 - val_loss: 1.1132 - val_accuracy: 0.2632\n",
            "Epoch 5/20\n",
            "4/4 [==============================] - 0s 19ms/step - loss: 1.1091 - accuracy: 0.3036 - val_loss: 1.1102 - val_accuracy: 0.2895\n",
            "Epoch 6/20\n",
            "4/4 [==============================] - 0s 15ms/step - loss: 1.1061 - accuracy: 0.3214 - val_loss: 1.1075 - val_accuracy: 0.2895\n",
            "Epoch 7/20\n",
            "4/4 [==============================] - 0s 19ms/step - loss: 1.1032 - accuracy: 0.3482 - val_loss: 1.1035 - val_accuracy: 0.2895\n",
            "Epoch 8/20\n",
            "4/4 [==============================] - 0s 20ms/step - loss: 1.1005 - accuracy: 0.3304 - val_loss: 1.1012 - val_accuracy: 0.2895\n",
            "Epoch 9/20\n",
            "4/4 [==============================] - 0s 13ms/step - loss: 1.0978 - accuracy: 0.3482 - val_loss: 1.0979 - val_accuracy: 0.2895\n",
            "Epoch 10/20\n",
            "4/4 [==============================] - 0s 18ms/step - loss: 1.0953 - accuracy: 0.3482 - val_loss: 1.0954 - val_accuracy: 0.2895\n",
            "Epoch 11/20\n",
            "4/4 [==============================] - 0s 14ms/step - loss: 1.0934 - accuracy: 0.3839 - val_loss: 1.0927 - val_accuracy: 0.3947\n",
            "Epoch 12/20\n",
            "4/4 [==============================] - 0s 13ms/step - loss: 1.0905 - accuracy: 0.4286 - val_loss: 1.0903 - val_accuracy: 0.3947\n",
            "Epoch 13/20\n",
            "4/4 [==============================] - 0s 15ms/step - loss: 1.0885 - accuracy: 0.5089 - val_loss: 1.0892 - val_accuracy: 0.2895\n",
            "Epoch 14/20\n",
            "4/4 [==============================] - 0s 18ms/step - loss: 1.0869 - accuracy: 0.3482 - val_loss: 1.0852 - val_accuracy: 0.4474\n",
            "Epoch 15/20\n",
            "4/4 [==============================] - 0s 18ms/step - loss: 1.0833 - accuracy: 0.5536 - val_loss: 1.0820 - val_accuracy: 0.4474\n",
            "Epoch 16/20\n",
            "4/4 [==============================] - 0s 18ms/step - loss: 1.0810 - accuracy: 0.5179 - val_loss: 1.0791 - val_accuracy: 0.5000\n",
            "Epoch 17/20\n",
            "4/4 [==============================] - 0s 19ms/step - loss: 1.0780 - accuracy: 0.5625 - val_loss: 1.0755 - val_accuracy: 0.5000\n",
            "Epoch 18/20\n",
            "4/4 [==============================] - 0s 24ms/step - loss: 1.0748 - accuracy: 0.5714 - val_loss: 1.0721 - val_accuracy: 0.5526\n",
            "Epoch 19/20\n",
            "4/4 [==============================] - 0s 22ms/step - loss: 1.0718 - accuracy: 0.5893 - val_loss: 1.0678 - val_accuracy: 0.5789\n",
            "Epoch 20/20\n",
            "4/4 [==============================] - 0s 17ms/step - loss: 1.0678 - accuracy: 0.6161 - val_loss: 1.0638 - val_accuracy: 0.5526\n",
            "2/2 [==============================] - 0s 9ms/step - loss: 1.0638 - accuracy: 0.5526\n",
            "Learning Rate: 0.030000 Test Accuracy: 55.26\n"
          ]
        },
        {
          "output_type": "stream",
          "name": "stderr",
          "text": [
            "WARNING:absl:`lr` is deprecated in Keras optimizer, please use `learning_rate` or use the legacy optimizer, e.g.,tf.keras.optimizers.legacy.SGD.\n"
          ]
        },
        {
          "output_type": "stream",
          "name": "stdout",
          "text": [
            "Epoch 1/20\n",
            "4/4 [==============================] - 1s 102ms/step - loss: 1.3845 - accuracy: 0.4821 - val_loss: 0.9836 - val_accuracy: 0.7105\n",
            "Epoch 2/20\n",
            "4/4 [==============================] - 0s 22ms/step - loss: 0.9794 - accuracy: 0.6518 - val_loss: 0.8609 - val_accuracy: 0.7105\n",
            "Epoch 3/20\n",
            "4/4 [==============================] - 0s 22ms/step - loss: 0.8767 - accuracy: 0.6518 - val_loss: 0.7771 - val_accuracy: 0.7105\n",
            "Epoch 4/20\n",
            "4/4 [==============================] - 0s 23ms/step - loss: 0.8109 - accuracy: 0.6518 - val_loss: 0.7360 - val_accuracy: 0.7105\n",
            "Epoch 5/20\n",
            "4/4 [==============================] - 0s 22ms/step - loss: 0.7789 - accuracy: 0.6518 - val_loss: 0.6786 - val_accuracy: 0.7105\n",
            "Epoch 6/20\n",
            "4/4 [==============================] - 0s 22ms/step - loss: 0.7148 - accuracy: 0.6518 - val_loss: 0.6500 - val_accuracy: 0.7368\n",
            "Epoch 7/20\n",
            "4/4 [==============================] - 0s 18ms/step - loss: 0.6840 - accuracy: 0.6607 - val_loss: 0.6207 - val_accuracy: 0.7105\n",
            "Epoch 8/20\n",
            "4/4 [==============================] - 0s 17ms/step - loss: 0.6551 - accuracy: 0.6607 - val_loss: 0.5952 - val_accuracy: 0.7632\n",
            "Epoch 9/20\n",
            "4/4 [==============================] - 0s 23ms/step - loss: 0.6313 - accuracy: 0.6696 - val_loss: 0.5730 - val_accuracy: 0.7368\n",
            "Epoch 10/20\n",
            "4/4 [==============================] - 0s 22ms/step - loss: 0.6114 - accuracy: 0.6786 - val_loss: 0.5627 - val_accuracy: 0.8421\n",
            "Epoch 11/20\n",
            "4/4 [==============================] - 0s 26ms/step - loss: 0.5952 - accuracy: 0.8036 - val_loss: 0.5373 - val_accuracy: 0.8158\n",
            "Epoch 12/20\n",
            "4/4 [==============================] - 0s 23ms/step - loss: 0.5763 - accuracy: 0.7500 - val_loss: 0.5206 - val_accuracy: 0.8421\n",
            "Epoch 13/20\n",
            "4/4 [==============================] - 0s 18ms/step - loss: 0.5605 - accuracy: 0.7857 - val_loss: 0.5048 - val_accuracy: 0.8158\n",
            "Epoch 14/20\n",
            "4/4 [==============================] - 0s 22ms/step - loss: 0.5511 - accuracy: 0.8125 - val_loss: 0.4927 - val_accuracy: 0.8421\n",
            "Epoch 15/20\n",
            "4/4 [==============================] - 0s 25ms/step - loss: 0.5343 - accuracy: 0.8571 - val_loss: 0.4807 - val_accuracy: 0.7632\n",
            "Epoch 16/20\n",
            "4/4 [==============================] - 0s 19ms/step - loss: 0.5232 - accuracy: 0.7500 - val_loss: 0.4702 - val_accuracy: 0.8421\n",
            "Epoch 17/20\n",
            "4/4 [==============================] - 0s 20ms/step - loss: 0.5119 - accuracy: 0.8393 - val_loss: 0.4601 - val_accuracy: 0.7895\n",
            "Epoch 18/20\n",
            "4/4 [==============================] - 0s 13ms/step - loss: 0.5041 - accuracy: 0.8214 - val_loss: 0.4513 - val_accuracy: 0.7895\n",
            "Epoch 19/20\n",
            "4/4 [==============================] - 0s 19ms/step - loss: 0.4930 - accuracy: 0.8125 - val_loss: 0.4403 - val_accuracy: 0.8421\n",
            "Epoch 20/20\n",
            "4/4 [==============================] - 0s 19ms/step - loss: 0.4936 - accuracy: 0.7857 - val_loss: 0.4347 - val_accuracy: 0.9474\n",
            "2/2 [==============================] - 0s 7ms/step - loss: 0.4347 - accuracy: 0.9474\n",
            "Learning Rate: 0.010000 Test Accuracy: 94.74\n"
          ]
        },
        {
          "output_type": "display_data",
          "data": {
            "text/plain": [
              "<Figure size 1200x900 with 4 Axes>"
            ],
            "image/png": "[encoded data removed]"
          },
          "metadata": {}
        }
      ]
    },
    {
      "cell_type": "code",
      "source": [
        "from sklearn import datasets"
      ],
      "metadata": {
        "id": "Mej4vt4_xtGt"
      },
      "execution_count": null,
      "outputs": []
    },
    {
      "cell_type": "code",
      "source": [
        "iris = datasets.load_iris"
      ],
      "metadata": {
        "id": "ogOyOcXBdO3t"
      },
      "execution_count": null,
      "outputs": []
    },
    {
      "cell_type": "code",
      "source": [],
      "metadata": {
        "id": "jV5KkPEFeZf-"
      },
      "execution_count": null,
      "outputs": []
    },
    {
      "cell_type": "code",
      "source": [
        "iris"
      ],
      "metadata": {
        "colab": {
          "base_uri": "https://localhost:8080/"
        },
        "id": "XMalSKMBdUxd",
        "outputId": "99bb7231-4316-4703-ba6c-98dc40d79a71"
      },
      "execution_count": null,
      "outputs": [
        {
          "output_type": "execute_result",
          "data": {
            "text/plain": [
              "<function sklearn.datasets._base.load_iris(*, return_X_y=False, as_frame=False)>"
            ]
          },
          "metadata": {},
          "execution_count": 3
        }
      ]
    },
    {
      "cell_type": "code",
      "source": [
        "%matplotlib inline\n",
        "import numpy as np\n",
        "import matplotlib.pyplot as plt\n",
        "from sklearn import datasets"
      ],
      "metadata": {
        "id": "lQpsCii8dkcG"
      },
      "execution_count": null,
      "outputs": []
    },
    {
      "cell_type": "code",
      "source": [],
      "metadata": {
        "id": "qhezVVKTdWLe"
      },
      "execution_count": null,
      "outputs": []
    },
    {
      "cell_type": "code",
      "source": [
        "from sklearn import datasets\n",
        "iris=datasets.load_iris()\n",
        "X = iris.data[:, :2]\n",
        "y = (iris.target !=0) * 1"
      ],
      "metadata": {
        "id": "HW9h90OIeIfG"
      },
      "execution_count": null,
      "outputs": []
    },
    {
      "cell_type": "code",
      "source": [
        "plt.figure(figsize=(10,6))\n",
        "plt.scatter(X[y == 0][:, 0], X[y == 0][:,1], color = 'g', label ='0')\n",
        "plt.scatter(X[y==1][:,0], X[y==1][:,1], color = 'y', label = '1')\n",
        "plt.legend()"
      ],
      "metadata": {
        "colab": {
          "base_uri": "https://localhost:8080/",
          "height": 541
        },
        "id": "2INjw45Teab9",
        "outputId": "d63a926c-43dd-4404-d652-7ac001f93250"
      },
      "execution_count": null,
      "outputs": [
        {
          "output_type": "execute_result",
          "data": {
            "text/plain": [
              "<matplotlib.legend.Legend at 0x79bbc14b6380>"
            ]
          },
          "metadata": {},
          "execution_count": 20
        },
        {
          "output_type": "display_data",
          "data": {
            "text/plain": [
              "<Figure size 1000x600 with 1 Axes>"
            ],
            "image/png": "[encoded data removed]"
          },
          "metadata": {}
        }
      ]
    },
    {
      "cell_type": "code",
      "source": [
        "from sklearn.linear_model import LogisticRegression\n",
        "\n",
        "model = LogisticRegression(C=1e20)\n",
        "model.fit(X,y)"
      ],
      "metadata": {
        "colab": {
          "base_uri": "https://localhost:8080/",
          "height": 75
        },
        "id": "AismcKy_h_Ad",
        "outputId": "bf1d0cca-6ba2-448b-d545-85b3c4722596"
      },
      "execution_count": null,
      "outputs": [
        {
          "output_type": "execute_result",
          "data": {
            "text/plain": [
              "LogisticRegression(C=1e+20)"
            ],
            "text/html": [
              "<style>#sk-container-id-1 {color: black;background-color: white;}#sk-container-id-1 pre{padding: 0;}#sk-container-id-1 div.sk-toggleable {background-color: white;}#sk-container-id-1 label.sk-toggleable__label {cursor: pointer;display: block;width: 100%;margin-bottom: 0;padding: 0.3em;box-sizing: border-box;text-align: center;}#sk-container-id-1 label.sk-toggleable__label-arrow:before {content: \"▸\";float: left;margin-right: 0.25em;color: #696969;}#sk-container-id-1 label.sk-toggleable__label-arrow:hover:before {color: black;}#sk-container-id-1 div.sk-estimator:hover label.sk-toggleable__label-arrow:before {color: black;}#sk-container-id-1 div.sk-toggleable__content {max-height: 0;max-width: 0;overflow: hidden;text-align: left;background-color: #f0f8ff;}#sk-container-id-1 div.sk-toggleable__content pre {margin: 0.2em;color: black;border-radius: 0.25em;background-color: #f0f8ff;}#sk-container-id-1 input.sk-toggleable__control:checked~div.sk-toggleable__content {max-height: 200px;max-width: 100%;overflow: auto;}#sk-container-id-1 input.sk-toggleable__control:checked~label.sk-toggleable__label-arrow:before {content: \"▾\";}#sk-container-id-1 div.sk-estimator input.sk-toggleable__control:checked~label.sk-toggleable__label {background-color: #d4ebff;}#sk-container-id-1 div.sk-label input.sk-toggleable__control:checked~label.sk-toggleable__label {background-color: #d4ebff;}#sk-container-id-1 input.sk-hidden--visually {border: 0;clip: rect(1px 1px 1px 1px);clip: rect(1px, 1px, 1px, 1px);height: 1px;margin: -1px;overflow: hidden;padding: 0;position: absolute;width: 1px;}#sk-container-id-1 div.sk-estimator {font-family: monospace;background-color: #f0f8ff;border: 1px dotted black;border-radius: 0.25em;box-sizing: border-box;margin-bottom: 0.5em;}#sk-container-id-1 div.sk-estimator:hover {background-color: #d4ebff;}#sk-container-id-1 div.sk-parallel-item::after {content: \"\";width: 100%;border-bottom: 1px solid gray;flex-grow: 1;}#sk-container-id-1 div.sk-label:hover label.sk-toggleable__label {background-color: #d4ebff;}#sk-container-id-1 div.sk-serial::before {content: \"\";position: absolute;border-left: 1px solid gray;box-sizing: border-box;top: 0;bottom: 0;left: 50%;z-index: 0;}#sk-container-id-1 div.sk-serial {display: flex;flex-direction: column;align-items: center;background-color: white;padding-right: 0.2em;padding-left: 0.2em;position: relative;}#sk-container-id-1 div.sk-item {position: relative;z-index: 1;}#sk-container-id-1 div.sk-parallel {display: flex;align-items: stretch;justify-content: center;background-color: white;position: relative;}#sk-container-id-1 div.sk-item::before, #sk-container-id-1 div.sk-parallel-item::before {content: \"\";position: absolute;border-left: 1px solid gray;box-sizing: border-box;top: 0;bottom: 0;left: 50%;z-index: -1;}#sk-container-id-1 div.sk-parallel-item {display: flex;flex-direction: column;z-index: 1;position: relative;background-color: white;}#sk-container-id-1 div.sk-parallel-item:first-child::after {align-self: flex-end;width: 50%;}#sk-container-id-1 div.sk-parallel-item:last-child::after {align-self: flex-start;width: 50%;}#sk-container-id-1 div.sk-parallel-item:only-child::after {width: 0;}#sk-container-id-1 div.sk-dashed-wrapped {border: 1px dashed gray;margin: 0 0.4em 0.5em 0.4em;box-sizing: border-box;padding-bottom: 0.4em;background-color: white;}#sk-container-id-1 div.sk-label label {font-family: monospace;font-weight: bold;display: inline-block;line-height: 1.2em;}#sk-container-id-1 div.sk-label-container {text-align: center;}#sk-container-id-1 div.sk-container {/* jupyter's `normalize.less` sets `[hidden] { display: none; }` but bootstrap.min.css set `[hidden] { display: none !important; }` so we also need the `!important` here to be able to override the default hidden behavior on the sphinx rendered scikit-learn.org. See: https://github.com/scikit-learn/scikit-learn/issues/21755 */display: inline-block !important;position: relative;}#sk-container-id-1 div.sk-text-repr-fallback {display: none;}</style><div id=\"sk-container-id-1\" class=\"sk-top-container\"><div class=\"sk-text-repr-fallback\"><pre>LogisticRegression(C=1e+20)</pre><b>In a Jupyter environment, please rerun this cell to show the HTML representation or trust the notebook. <br />On GitHub, the HTML representation is unable to render, please try loading this page with nbviewer.org.</b></div><div class=\"sk-container\" hidden><div class=\"sk-item\"><div class=\"sk-estimator sk-toggleable\"><input class=\"sk-toggleable__control sk-hidden--visually\" id=\"sk-estimator-id-1\" type=\"checkbox\" checked><label for=\"sk-estimator-id-1\" class=\"sk-toggleable__label sk-toggleable__label-arrow\">LogisticRegression</label><div class=\"sk-toggleable__content\"><pre>LogisticRegression(C=1e+20)</pre></div></div></div></div></div>"
            ]
          },
          "metadata": {},
          "execution_count": 21
        }
      ]
    },
    {
      "cell_type": "code",
      "source": [
        "Iries_To_Predict = [\n",
        "    [5.5,2.5],\n",
        "    [7,3],\n",
        "    [3,2],\n",
        "    [5,3],\n",
        "    [52,12]\n",
        "]"
      ],
      "metadata": {
        "id": "pod3mjxAiLZc"
      },
      "execution_count": null,
      "outputs": []
    },
    {
      "cell_type": "code",
      "source": [
        "model.predict(Iries_To_Predict)"
      ],
      "metadata": {
        "colab": {
          "base_uri": "https://localhost:8080/"
        },
        "id": "8h83pvioijm3",
        "outputId": "81f147c4-ef02-4c57-c03f-979ffc6ba149"
      },
      "execution_count": null,
      "outputs": [
        {
          "output_type": "execute_result",
          "data": {
            "text/plain": [
              "array([1, 1, 0, 0, 1])"
            ]
          },
          "metadata": {},
          "execution_count": 27
        }
      ]
    },
    {
      "cell_type": "code",
      "source": [
        "from sklearn.datasets import *\n",
        "import pandas as pd\n"
      ],
      "metadata": {
        "id": "3AC2bt0YioO8"
      },
      "execution_count": null,
      "outputs": []
    },
    {
      "cell_type": "code",
      "source": [
        "digit = load_digits()\n",
        "dig= pd.DataFrame(digit['data'][0:1700])"
      ],
      "metadata": {
        "id": "2XDnC5cGkTx8"
      },
      "execution_count": null,
      "outputs": []
    },
    {
      "cell_type": "code",
      "source": [
        "dig"
      ],
      "metadata": {
        "colab": {
          "base_uri": "https://localhost:8080/",
          "height": 424
        },
        "id": "DISKm75Vkmu8",
        "outputId": "b9e0963b-780d-42b9-d5fa-0bf829d4c187"
      },
      "execution_count": null,
      "outputs": [
        {
          "output_type": "execute_result",
          "data": {
            "text/plain": [
              "       0    1     2     3     4     5    6    7    8    9   ...    54   55  \\\n",
              "0     0.0  0.0   5.0  13.0   9.0   1.0  0.0  0.0  0.0  0.0  ...   0.0  0.0   \n",
              "1     0.0  0.0   0.0  12.0  13.0   5.0  0.0  0.0  0.0  0.0  ...   0.0  0.0   \n",
              "2     0.0  0.0   0.0   4.0  15.0  12.0  0.0  0.0  0.0  0.0  ...   5.0  0.0   \n",
              "3     0.0  0.0   7.0  15.0  13.0   1.0  0.0  0.0  0.0  8.0  ...   9.0  0.0   \n",
              "4     0.0  0.0   0.0   1.0  11.0   0.0  0.0  0.0  0.0  0.0  ...   0.0  0.0   \n",
              "...   ...  ...   ...   ...   ...   ...  ...  ...  ...  ...  ...   ...  ...   \n",
              "1695  0.0  0.0  15.0  13.0   0.0   3.0  3.0  0.0  0.0  0.0  ...   3.0  0.0   \n",
              "1696  0.0  0.0   4.0  13.0  13.0   4.0  0.0  0.0  0.0  0.0  ...  10.0  0.0   \n",
              "1697  0.0  0.0   7.0  12.0  13.0   2.0  0.0  0.0  0.0  0.0  ...   1.0  0.0   \n",
              "1698  0.0  0.0   5.0  14.0  11.0   3.0  0.0  0.0  0.0  1.0  ...   0.0  0.0   \n",
              "1699  0.0  0.0  15.0  16.0  12.0   5.0  0.0  0.0  0.0  1.0  ...   0.0  0.0   \n",
              "\n",
              "       56   57    58    59    60    61   62   63  \n",
              "0     0.0  0.0   6.0  13.0  10.0   0.0  0.0  0.0  \n",
              "1     0.0  0.0   0.0  11.0  16.0  10.0  0.0  0.0  \n",
              "2     0.0  0.0   0.0   3.0  11.0  16.0  9.0  0.0  \n",
              "3     0.0  0.0   7.0  13.0  13.0   9.0  0.0  0.0  \n",
              "4     0.0  0.0   0.0   2.0  16.0   4.0  0.0  0.0  \n",
              "...   ...  ...   ...   ...   ...   ...  ...  ...  \n",
              "1695  0.0  1.0  12.0  16.0  15.0   7.0  0.0  0.0  \n",
              "1696  0.0  1.0   6.0  11.0  15.0  12.0  1.0  0.0  \n",
              "1697  0.0  0.0   6.0  14.0  14.0   4.0  0.0  0.0  \n",
              "1698  0.0  0.0   6.0  12.0  13.0   9.0  0.0  0.0  \n",
              "1699  0.0  0.0  13.0  15.0   5.0   0.0  0.0  0.0  \n",
              "\n",
              "[1700 rows x 64 columns]"
            ],
            "text/html": [
              "\n",
              "  <div id=\"df-70b2653c-cfc7-4c91-8e56-bc72f88deed6\" class=\"colab-df-container\">\n",
              "    <div>\n",
              "<style scoped>\n",
              "    .dataframe tbody tr th:only-of-type {\n",
              "        vertical-align: middle;\n",
              "    }\n",
              "\n",
              "    .dataframe tbody tr th {\n",
              "        vertical-align: top;\n",
              "    }\n",
              "\n",
              "    .dataframe thead th {\n",
              "        text-align: right;\n",
              "    }\n",
              "</style>\n",
              "<table border=\"1\" class=\"dataframe\">\n",
              "  <thead>\n",
              "    <tr style=\"text-align: right;\">\n",
              "      <th></th>\n",
              "      <th>0</th>\n",
              "      <th>1</th>\n",
              "      <th>2</th>\n",
              "      <th>3</th>\n",
              "      <th>4</th>\n",
              "      <th>5</th>\n",
              "      <th>6</th>\n",
              "      <th>7</th>\n",
              "      <th>8</th>\n",
              "      <th>9</th>\n",
              "      <th>...</th>\n",
              "      <th>54</th>\n",
              "      <th>55</th>\n",
              "      <th>56</th>\n",
              "      <th>57</th>\n",
              "      <th>58</th>\n",
              "      <th>59</th>\n",
              "      <th>60</th>\n",
              "      <th>61</th>\n",
              "      <th>62</th>\n",
              "      <th>63</th>\n",
              "    </tr>\n",
              "  </thead>\n",
              "  <tbody>\n",
              "    <tr>\n",
              "      <th>0</th>\n",
              "      <td>0.0</td>\n",
              "      <td>0.0</td>\n",
              "      <td>5.0</td>\n",
              "      <td>13.0</td>\n",
              "      <td>9.0</td>\n",
              "      <td>1.0</td>\n",
              "      <td>0.0</td>\n",
              "      <td>0.0</td>\n",
              "      <td>0.0</td>\n",
              "      <td>0.0</td>\n",
              "      <td>...</td>\n",
              "      <td>0.0</td>\n",
              "      <td>0.0</td>\n",
              "      <td>0.0</td>\n",
              "      <td>0.0</td>\n",
              "      <td>6.0</td>\n",
              "      <td>13.0</td>\n",
              "      <td>10.0</td>\n",
              "      <td>0.0</td>\n",
              "      <td>0.0</td>\n",
              "      <td>0.0</td>\n",
              "    </tr>\n",
              "    <tr>\n",
              "      <th>1</th>\n",
              "      <td>0.0</td>\n",
              "      <td>0.0</td>\n",
              "      <td>0.0</td>\n",
              "      <td>12.0</td>\n",
              "      <td>13.0</td>\n",
              "      <td>5.0</td>\n",
              "      <td>0.0</td>\n",
              "      <td>0.0</td>\n",
              "      <td>0.0</td>\n",
              "      <td>0.0</td>\n",
              "      <td>...</td>\n",
              "      <td>0.0</td>\n",
              "      <td>0.0</td>\n",
              "      <td>0.0</td>\n",
              "      <td>0.0</td>\n",
              "      <td>0.0</td>\n",
              "      <td>11.0</td>\n",
              "      <td>16.0</td>\n",
              "      <td>10.0</td>\n",
              "      <td>0.0</td>\n",
              "      <td>0.0</td>\n",
              "    </tr>\n",
              "    <tr>\n",
              "      <th>2</th>\n",
              "      <td>0.0</td>\n",
              "      <td>0.0</td>\n",
              "      <td>0.0</td>\n",
              "      <td>4.0</td>\n",
              "      <td>15.0</td>\n",
              "      <td>12.0</td>\n",
              "      <td>0.0</td>\n",
              "      <td>0.0</td>\n",
              "      <td>0.0</td>\n",
              "      <td>0.0</td>\n",
              "      <td>...</td>\n",
              "      <td>5.0</td>\n",
              "      <td>0.0</td>\n",
              "      <td>0.0</td>\n",
              "      <td>0.0</td>\n",
              "      <td>0.0</td>\n",
              "      <td>3.0</td>\n",
              "      <td>11.0</td>\n",
              "      <td>16.0</td>\n",
              "      <td>9.0</td>\n",
              "      <td>0.0</td>\n",
              "    </tr>\n",
              "    <tr>\n",
              "      <th>3</th>\n",
              "      <td>0.0</td>\n",
              "      <td>0.0</td>\n",
              "      <td>7.0</td>\n",
              "      <td>15.0</td>\n",
              "      <td>13.0</td>\n",
              "      <td>1.0</td>\n",
              "      <td>0.0</td>\n",
              "      <td>0.0</td>\n",
              "      <td>0.0</td>\n",
              "      <td>8.0</td>\n",
              "      <td>...</td>\n",
              "      <td>9.0</td>\n",
              "      <td>0.0</td>\n",
              "      <td>0.0</td>\n",
              "      <td>0.0</td>\n",
              "      <td>7.0</td>\n",
              "      <td>13.0</td>\n",
              "      <td>13.0</td>\n",
              "      <td>9.0</td>\n",
              "      <td>0.0</td>\n",
              "      <td>0.0</td>\n",
              "    </tr>\n",
              "    <tr>\n",
              "      <th>4</th>\n",
              "      <td>0.0</td>\n",
              "      <td>0.0</td>\n",
              "      <td>0.0</td>\n",
              "      <td>1.0</td>\n",
              "      <td>11.0</td>\n",
              "      <td>0.0</td>\n",
              "      <td>0.0</td>\n",
              "      <td>0.0</td>\n",
              "      <td>0.0</td>\n",
              "      <td>0.0</td>\n",
              "      <td>...</td>\n",
              "      <td>0.0</td>\n",
              "      <td>0.0</td>\n",
              "      <td>0.0</td>\n",
              "      <td>0.0</td>\n",
              "      <td>0.0</td>\n",
              "      <td>2.0</td>\n",
              "      <td>16.0</td>\n",
              "      <td>4.0</td>\n",
              "      <td>0.0</td>\n",
              "      <td>0.0</td>\n",
              "    </tr>\n",
              "    <tr>\n",
              "      <th>...</th>\n",
              "      <td>...</td>\n",
              "      <td>...</td>\n",
              "      <td>...</td>\n",
              "      <td>...</td>\n",
              "      <td>...</td>\n",
              "      <td>...</td>\n",
              "      <td>...</td>\n",
              "      <td>...</td>\n",
              "      <td>...</td>\n",
              "      <td>...</td>\n",
              "      <td>...</td>\n",
              "      <td>...</td>\n",
              "      <td>...</td>\n",
              "      <td>...</td>\n",
              "      <td>...</td>\n",
              "      <td>...</td>\n",
              "      <td>...</td>\n",
              "      <td>...</td>\n",
              "      <td>...</td>\n",
              "      <td>...</td>\n",
              "      <td>...</td>\n",
              "    </tr>\n",
              "    <tr>\n",
              "      <th>1695</th>\n",
              "      <td>0.0</td>\n",
              "      <td>0.0</td>\n",
              "      <td>15.0</td>\n",
              "      <td>13.0</td>\n",
              "      <td>0.0</td>\n",
              "      <td>3.0</td>\n",
              "      <td>3.0</td>\n",
              "      <td>0.0</td>\n",
              "      <td>0.0</td>\n",
              "      <td>0.0</td>\n",
              "      <td>...</td>\n",
              "      <td>3.0</td>\n",
              "      <td>0.0</td>\n",
              "      <td>0.0</td>\n",
              "      <td>1.0</td>\n",
              "      <td>12.0</td>\n",
              "      <td>16.0</td>\n",
              "      <td>15.0</td>\n",
              "      <td>7.0</td>\n",
              "      <td>0.0</td>\n",
              "      <td>0.0</td>\n",
              "    </tr>\n",
              "    <tr>\n",
              "      <th>1696</th>\n",
              "      <td>0.0</td>\n",
              "      <td>0.0</td>\n",
              "      <td>4.0</td>\n",
              "      <td>13.0</td>\n",
              "      <td>13.0</td>\n",
              "      <td>4.0</td>\n",
              "      <td>0.0</td>\n",
              "      <td>0.0</td>\n",
              "      <td>0.0</td>\n",
              "      <td>0.0</td>\n",
              "      <td>...</td>\n",
              "      <td>10.0</td>\n",
              "      <td>0.0</td>\n",
              "      <td>0.0</td>\n",
              "      <td>1.0</td>\n",
              "      <td>6.0</td>\n",
              "      <td>11.0</td>\n",
              "      <td>15.0</td>\n",
              "      <td>12.0</td>\n",
              "      <td>1.0</td>\n",
              "      <td>0.0</td>\n",
              "    </tr>\n",
              "    <tr>\n",
              "      <th>1697</th>\n",
              "      <td>0.0</td>\n",
              "      <td>0.0</td>\n",
              "      <td>7.0</td>\n",
              "      <td>12.0</td>\n",
              "      <td>13.0</td>\n",
              "      <td>2.0</td>\n",
              "      <td>0.0</td>\n",
              "      <td>0.0</td>\n",
              "      <td>0.0</td>\n",
              "      <td>0.0</td>\n",
              "      <td>...</td>\n",
              "      <td>1.0</td>\n",
              "      <td>0.0</td>\n",
              "      <td>0.0</td>\n",
              "      <td>0.0</td>\n",
              "      <td>6.0</td>\n",
              "      <td>14.0</td>\n",
              "      <td>14.0</td>\n",
              "      <td>4.0</td>\n",
              "      <td>0.0</td>\n",
              "      <td>0.0</td>\n",
              "    </tr>\n",
              "    <tr>\n",
              "      <th>1698</th>\n",
              "      <td>0.0</td>\n",
              "      <td>0.0</td>\n",
              "      <td>5.0</td>\n",
              "      <td>14.0</td>\n",
              "      <td>11.0</td>\n",
              "      <td>3.0</td>\n",
              "      <td>0.0</td>\n",
              "      <td>0.0</td>\n",
              "      <td>0.0</td>\n",
              "      <td>1.0</td>\n",
              "      <td>...</td>\n",
              "      <td>0.0</td>\n",
              "      <td>0.0</td>\n",
              "      <td>0.0</td>\n",
              "      <td>0.0</td>\n",
              "      <td>6.0</td>\n",
              "      <td>12.0</td>\n",
              "      <td>13.0</td>\n",
              "      <td>9.0</td>\n",
              "      <td>0.0</td>\n",
              "      <td>0.0</td>\n",
              "    </tr>\n",
              "    <tr>\n",
              "      <th>1699</th>\n",
              "      <td>0.0</td>\n",
              "      <td>0.0</td>\n",
              "      <td>15.0</td>\n",
              "      <td>16.0</td>\n",
              "      <td>12.0</td>\n",
              "      <td>5.0</td>\n",
              "      <td>0.0</td>\n",
              "      <td>0.0</td>\n",
              "      <td>0.0</td>\n",
              "      <td>1.0</td>\n",
              "      <td>...</td>\n",
              "      <td>0.0</td>\n",
              "      <td>0.0</td>\n",
              "      <td>0.0</td>\n",
              "      <td>0.0</td>\n",
              "      <td>13.0</td>\n",
              "      <td>15.0</td>\n",
              "      <td>5.0</td>\n",
              "      <td>0.0</td>\n",
              "      <td>0.0</td>\n",
              "      <td>0.0</td>\n",
              "    </tr>\n",
              "  </tbody>\n",
              "</table>\n",
              "<p>1700 rows × 64 columns</p>\n",
              "</div>\n",
              "    <div class=\"colab-df-buttons\">\n",
              "\n",
              "  <div class=\"colab-df-container\">\n",
              "    <button class=\"colab-df-convert\" onclick=\"convertToInteractive('df-70b2653c-cfc7-4c91-8e56-bc72f88deed6')\"\n",
              "            title=\"Convert this dataframe to an interactive table.\"\n",
              "            style=\"display:none;\">\n",
              "\n",
              "  <svg xmlns=\"http://www.w3.org/2000/svg\" height=\"24px\" viewBox=\"0 -960 960 960\">\n",
              "    <path d=\"M120-120v-720h720v720H120Zm60-500h600v-160H180v160Zm220 220h160v-160H400v160Zm0 220h160v-160H400v160ZM180-400h160v-160H180v160Zm440 0h160v-160H620v160ZM180-180h160v-160H180v160Zm440 0h160v-160H620v160Z\"/>\n",
              "  </svg>\n",
              "    </button>\n",
              "\n",
              "  <style>\n",
              "    .colab-df-container {\n",
              "      display:flex;\n",
              "      gap: 12px;\n",
              "    }\n",
              "\n",
              "    .colab-df-convert {\n",
              "      background-color: #E8F0FE;\n",
              "      border: none;\n",
              "      border-radius: 50%;\n",
              "      cursor: pointer;\n",
              "      display: none;\n",
              "      fill: #1967D2;\n",
              "      height: 32px;\n",
              "      padding: 0 0 0 0;\n",
              "      width: 32px;\n",
              "    }\n",
              "\n",
              "    .colab-df-convert:hover {\n",
              "      background-color: #E2EBFA;\n",
              "      box-shadow: 0px 1px 2px rgba(60, 64, 67, 0.3), 0px 1px 3px 1px rgba(60, 64, 67, 0.15);\n",
              "      fill: #174EA6;\n",
              "    }\n",
              "\n",
              "    .colab-df-buttons div {\n",
              "      margin-bottom: 4px;\n",
              "    }\n",
              "\n",
              "    [theme=dark] .colab-df-convert {\n",
              "      background-color: #3B4455;\n",
              "      fill: #D2E3FC;\n",
              "    }\n",
              "\n",
              "    [theme=dark] .colab-df-convert:hover {\n",
              "      background-color: #434B5C;\n",
              "      box-shadow: 0px 1px 3px 1px rgba(0, 0, 0, 0.15);\n",
              "      filter: drop-shadow(0px 1px 2px rgba(0, 0, 0, 0.3));\n",
              "      fill: #FFFFFF;\n",
              "    }\n",
              "  </style>\n",
              "\n",
              "    <script>\n",
              "      const buttonEl =\n",
              "        document.querySelector('#df-70b2653c-cfc7-4c91-8e56-bc72f88deed6 button.colab-df-convert');\n",
              "      buttonEl.style.display =\n",
              "        google.colab.kernel.accessAllowed ? 'block' : 'none';\n",
              "\n",
              "      async function convertToInteractive(key) {\n",
              "        const element = document.querySelector('#df-70b2653c-cfc7-4c91-8e56-bc72f88deed6');\n",
              "        const dataTable =\n",
              "          await google.colab.kernel.invokeFunction('convertToInteractive',\n",
              "                                                    [key], {});\n",
              "        if (!dataTable) return;\n",
              "\n",
              "        const docLinkHtml = 'Like what you see? Visit the ' +\n",
              "          '<a target=\"_blank\" href=https://colab.research.google.com/notebooks/data_table.ipynb>data table notebook</a>'\n",
              "          + ' to learn more about interactive tables.';\n",
              "        element.innerHTML = '';\n",
              "        dataTable['output_type'] = 'display_data';\n",
              "        await google.colab.output.renderOutput(dataTable, element);\n",
              "        const docLink = document.createElement('div');\n",
              "        docLink.innerHTML = docLinkHtml;\n",
              "        element.appendChild(docLink);\n",
              "      }\n",
              "    </script>\n",
              "  </div>\n",
              "\n",
              "\n",
              "<div id=\"df-e0910e4b-1aa9-4106-a5c0-f1829c281685\">\n",
              "  <button class=\"colab-df-quickchart\" onclick=\"quickchart('df-e0910e4b-1aa9-4106-a5c0-f1829c281685')\"\n",
              "            title=\"Suggest charts\"\n",
              "            style=\"display:none;\">\n",
              "\n",
              "<svg xmlns=\"http://www.w3.org/2000/svg\" height=\"24px\"viewBox=\"0 0 24 24\"\n",
              "     width=\"24px\">\n",
              "    <g>\n",
              "        <path d=\"M19 3H5c-1.1 0-2 .9-2 2v14c0 1.1.9 2 2 2h14c1.1 0 2-.9 2-2V5c0-1.1-.9-2-2-2zM9 17H7v-7h2v7zm4 0h-2V7h2v10zm4 0h-2v-4h2v4z\"/>\n",
              "    </g>\n",
              "</svg>\n",
              "  </button>\n",
              "\n",
              "<style>\n",
              "  .colab-df-quickchart {\n",
              "      --bg-color: #E8F0FE;\n",
              "      --fill-color: #1967D2;\n",
              "      --hover-bg-color: #E2EBFA;\n",
              "      --hover-fill-color: #174EA6;\n",
              "      --disabled-fill-color: #AAA;\n",
              "      --disabled-bg-color: #DDD;\n",
              "  }\n",
              "\n",
              "  [theme=dark] .colab-df-quickchart {\n",
              "      --bg-color: #3B4455;\n",
              "      --fill-color: #D2E3FC;\n",
              "      --hover-bg-color: #434B5C;\n",
              "      --hover-fill-color: #FFFFFF;\n",
              "      --disabled-bg-color: #3B4455;\n",
              "      --disabled-fill-color: #666;\n",
              "  }\n",
              "\n",
              "  .colab-df-quickchart {\n",
              "    background-color: var(--bg-color);\n",
              "    border: none;\n",
              "    border-radius: 50%;\n",
              "    cursor: pointer;\n",
              "    display: none;\n",
              "    fill: var(--fill-color);\n",
              "    height: 32px;\n",
              "    padding: 0;\n",
              "    width: 32px;\n",
              "  }\n",
              "\n",
              "  .colab-df-quickchart:hover {\n",
              "    background-color: var(--hover-bg-color);\n",
              "    box-shadow: 0 1px 2px rgba(60, 64, 67, 0.3), 0 1px 3px 1px rgba(60, 64, 67, 0.15);\n",
              "    fill: var(--button-hover-fill-color);\n",
              "  }\n",
              "\n",
              "  .colab-df-quickchart-complete:disabled,\n",
              "  .colab-df-quickchart-complete:disabled:hover {\n",
              "    background-color: var(--disabled-bg-color);\n",
              "    fill: var(--disabled-fill-color);\n",
              "    box-shadow: none;\n",
              "  }\n",
              "\n",
              "  .colab-df-spinner {\n",
              "    border: 2px solid var(--fill-color);\n",
              "    border-color: transparent;\n",
              "    border-bottom-color: var(--fill-color);\n",
              "    animation:\n",
              "      spin 1s steps(1) infinite;\n",
              "  }\n",
              "\n",
              "  @keyframes spin {\n",
              "    0% {\n",
              "      border-color: transparent;\n",
              "      border-bottom-color: var(--fill-color);\n",
              "      border-left-color: var(--fill-color);\n",
              "    }\n",
              "    20% {\n",
              "      border-color: transparent;\n",
              "      border-left-color: var(--fill-color);\n",
              "      border-top-color: var(--fill-color);\n",
              "    }\n",
              "    30% {\n",
              "      border-color: transparent;\n",
              "      border-left-color: var(--fill-color);\n",
              "      border-top-color: var(--fill-color);\n",
              "      border-right-color: var(--fill-color);\n",
              "    }\n",
              "    40% {\n",
              "      border-color: transparent;\n",
              "      border-right-color: var(--fill-color);\n",
              "      border-top-color: var(--fill-color);\n",
              "    }\n",
              "    60% {\n",
              "      border-color: transparent;\n",
              "      border-right-color: var(--fill-color);\n",
              "    }\n",
              "    80% {\n",
              "      border-color: transparent;\n",
              "      border-right-color: var(--fill-color);\n",
              "      border-bottom-color: var(--fill-color);\n",
              "    }\n",
              "    90% {\n",
              "      border-color: transparent;\n",
              "      border-bottom-color: var(--fill-color);\n",
              "    }\n",
              "  }\n",
              "</style>\n",
              "\n",
              "  <script>\n",
              "    async function quickchart(key) {\n",
              "      const quickchartButtonEl =\n",
              "        document.querySelector('#' + key + ' button');\n",
              "      quickchartButtonEl.disabled = true;  // To prevent multiple clicks.\n",
              "      quickchartButtonEl.classList.add('colab-df-spinner');\n",
              "      try {\n",
              "        const charts = await google.colab.kernel.invokeFunction(\n",
              "            'suggestCharts', [key], {});\n",
              "      } catch (error) {\n",
              "        console.error('Error during call to suggestCharts:', error);\n",
              "      }\n",
              "      quickchartButtonEl.classList.remove('colab-df-spinner');\n",
              "      quickchartButtonEl.classList.add('colab-df-quickchart-complete');\n",
              "    }\n",
              "    (() => {\n",
              "      let quickchartButtonEl =\n",
              "        document.querySelector('#df-e0910e4b-1aa9-4106-a5c0-f1829c281685 button');\n",
              "      quickchartButtonEl.style.display =\n",
              "        google.colab.kernel.accessAllowed ? 'block' : 'none';\n",
              "    })();\n",
              "  </script>\n",
              "</div>\n",
              "    </div>\n",
              "  </div>\n"
            ]
          },
          "metadata": {},
          "execution_count": 48
        }
      ]
    },
    {
      "cell_type": "code",
      "source": [
        "digit.keys()"
      ],
      "metadata": {
        "colab": {
          "base_uri": "https://localhost:8080/"
        },
        "id": "znr2wvjSks-U",
        "outputId": "8dd3daeb-a0ab-4a52-ae55-2ace3aba1141"
      },
      "execution_count": null,
      "outputs": [
        {
          "output_type": "execute_result",
          "data": {
            "text/plain": [
              "dict_keys(['data', 'target', 'frame', 'feature_names', 'target_names', 'images', 'DESCR'])"
            ]
          },
          "metadata": {},
          "execution_count": 51
        }
      ]
    },
    {
      "cell_type": "code",
      "source": [
        "def dislayImage(i):\n",
        "  plt.imshow(digit['images'][i], cmap='Greys_r')\n",
        "  plt.show()"
      ],
      "metadata": {
        "id": "f-cuQxwik0G8"
      },
      "execution_count": null,
      "outputs": []
    },
    {
      "cell_type": "code",
      "source": [
        "dislayImage(2)"
      ],
      "metadata": {
        "colab": {
          "base_uri": "https://localhost:8080/",
          "height": 430
        },
        "id": "wFmCr86blDys",
        "outputId": "76f83b88-8e27-4cd4-f845-b4d7130fb8be"
      },
      "execution_count": null,
      "outputs": [
        {
          "output_type": "display_data",
          "data": {
            "text/plain": [
              "<Figure size 640x480 with 1 Axes>"
            ],
            "image/png": "[encoded data removed]"
          },
          "metadata": {}
        }
      ]
    },
    {
      "cell_type": "code",
      "source": [
        "from sklearn.model_selection import train_test_split\n",
        "train_x = digit.data\n",
        "train_y = digit.target\n",
        "\n",
        "x_train, x_test, y_train, y_test = train_test_split(train_x, train_y, test_size = 0.25)"
      ],
      "metadata": {
        "id": "XAHCzG3glf0N"
      },
      "execution_count": null,
      "outputs": []
    },
    {
      "cell_type": "code",
      "source": [
        "from sklearn.neighbors import KNeighborsClassifier\n",
        "KNN = KNeighborsClassifier(7)\n",
        "KNN.fit(x_train, y_train)"
      ],
      "metadata": {
        "colab": {
          "base_uri": "https://localhost:8080/",
          "height": 75
        },
        "id": "7n7OyGfum1EV",
        "outputId": "2dccf93e-4edd-420a-f198-e45b1e31fd40"
      },
      "execution_count": null,
      "outputs": [
        {
          "output_type": "execute_result",
          "data": {
            "text/plain": [
              "KNeighborsClassifier(n_neighbors=7)"
            ],
            "text/html": [
              "<style>#sk-container-id-2 {color: black;background-color: white;}#sk-container-id-2 pre{padding: 0;}#sk-container-id-2 div.sk-toggleable {background-color: white;}#sk-container-id-2 label.sk-toggleable__label {cursor: pointer;display: block;width: 100%;margin-bottom: 0;padding: 0.3em;box-sizing: border-box;text-align: center;}#sk-container-id-2 label.sk-toggleable__label-arrow:before {content: \"▸\";float: left;margin-right: 0.25em;color: #696969;}#sk-container-id-2 label.sk-toggleable__label-arrow:hover:before {color: black;}#sk-container-id-2 div.sk-estimator:hover label.sk-toggleable__label-arrow:before {color: black;}#sk-container-id-2 div.sk-toggleable__content {max-height: 0;max-width: 0;overflow: hidden;text-align: left;background-color: #f0f8ff;}#sk-container-id-2 div.sk-toggleable__content pre {margin: 0.2em;color: black;border-radius: 0.25em;background-color: #f0f8ff;}#sk-container-id-2 input.sk-toggleable__control:checked~div.sk-toggleable__content {max-height: 200px;max-width: 100%;overflow: auto;}#sk-container-id-2 input.sk-toggleable__control:checked~label.sk-toggleable__label-arrow:before {content: \"▾\";}#sk-container-id-2 div.sk-estimator input.sk-toggleable__control:checked~label.sk-toggleable__label {background-color: #d4ebff;}#sk-container-id-2 div.sk-label input.sk-toggleable__control:checked~label.sk-toggleable__label {background-color: #d4ebff;}#sk-container-id-2 input.sk-hidden--visually {border: 0;clip: rect(1px 1px 1px 1px);clip: rect(1px, 1px, 1px, 1px);height: 1px;margin: -1px;overflow: hidden;padding: 0;position: absolute;width: 1px;}#sk-container-id-2 div.sk-estimator {font-family: monospace;background-color: #f0f8ff;border: 1px dotted black;border-radius: 0.25em;box-sizing: border-box;margin-bottom: 0.5em;}#sk-container-id-2 div.sk-estimator:hover {background-color: #d4ebff;}#sk-container-id-2 div.sk-parallel-item::after {content: \"\";width: 100%;border-bottom: 1px solid gray;flex-grow: 1;}#sk-container-id-2 div.sk-label:hover label.sk-toggleable__label {background-color: #d4ebff;}#sk-container-id-2 div.sk-serial::before {content: \"\";position: absolute;border-left: 1px solid gray;box-sizing: border-box;top: 0;bottom: 0;left: 50%;z-index: 0;}#sk-container-id-2 div.sk-serial {display: flex;flex-direction: column;align-items: center;background-color: white;padding-right: 0.2em;padding-left: 0.2em;position: relative;}#sk-container-id-2 div.sk-item {position: relative;z-index: 1;}#sk-container-id-2 div.sk-parallel {display: flex;align-items: stretch;justify-content: center;background-color: white;position: relative;}#sk-container-id-2 div.sk-item::before, #sk-container-id-2 div.sk-parallel-item::before {content: \"\";position: absolute;border-left: 1px solid gray;box-sizing: border-box;top: 0;bottom: 0;left: 50%;z-index: -1;}#sk-container-id-2 div.sk-parallel-item {display: flex;flex-direction: column;z-index: 1;position: relative;background-color: white;}#sk-container-id-2 div.sk-parallel-item:first-child::after {align-self: flex-end;width: 50%;}#sk-container-id-2 div.sk-parallel-item:last-child::after {align-self: flex-start;width: 50%;}#sk-container-id-2 div.sk-parallel-item:only-child::after {width: 0;}#sk-container-id-2 div.sk-dashed-wrapped {border: 1px dashed gray;margin: 0 0.4em 0.5em 0.4em;box-sizing: border-box;padding-bottom: 0.4em;background-color: white;}#sk-container-id-2 div.sk-label label {font-family: monospace;font-weight: bold;display: inline-block;line-height: 1.2em;}#sk-container-id-2 div.sk-label-container {text-align: center;}#sk-container-id-2 div.sk-container {/* jupyter's `normalize.less` sets `[hidden] { display: none; }` but bootstrap.min.css set `[hidden] { display: none !important; }` so we also need the `!important` here to be able to override the default hidden behavior on the sphinx rendered scikit-learn.org. See: https://github.com/scikit-learn/scikit-learn/issues/21755 */display: inline-block !important;position: relative;}#sk-container-id-2 div.sk-text-repr-fallback {display: none;}</style><div id=\"sk-container-id-2\" class=\"sk-top-container\"><div class=\"sk-text-repr-fallback\"><pre>KNeighborsClassifier(n_neighbors=7)</pre><b>In a Jupyter environment, please rerun this cell to show the HTML representation or trust the notebook. <br />On GitHub, the HTML representation is unable to render, please try loading this page with nbviewer.org.</b></div><div class=\"sk-container\" hidden><div class=\"sk-item\"><div class=\"sk-estimator sk-toggleable\"><input class=\"sk-toggleable__control sk-hidden--visually\" id=\"sk-estimator-id-2\" type=\"checkbox\" checked><label for=\"sk-estimator-id-2\" class=\"sk-toggleable__label sk-toggleable__label-arrow\">KNeighborsClassifier</label><div class=\"sk-toggleable__content\"><pre>KNeighborsClassifier(n_neighbors=7)</pre></div></div></div></div></div>"
            ]
          },
          "metadata": {},
          "execution_count": 60
        }
      ]
    },
    {
      "cell_type": "code",
      "source": [
        "print(KNN.score(x_test, y_test))"
      ],
      "metadata": {
        "colab": {
          "base_uri": "https://localhost:8080/"
        },
        "id": "oaUhs6TQlEMs",
        "outputId": "2091624a-7831-4d64-d8e6-46c620beedf7"
      },
      "execution_count": null,
      "outputs": [
        {
          "output_type": "stream",
          "name": "stdout",
          "text": [
            "0.98\n"
          ]
        }
      ]
    },
    {
      "cell_type": "code",
      "source": [
        "import numpy as np\n",
        "\n",
        "test = np.array(digit['data'][153])\n",
        "\n",
        "test1 = test.reshape(1,-1)\n",
        "\n",
        "dislayImage(1100)\n",
        "\n",
        "\n",
        "\n"
      ],
      "metadata": {
        "colab": {
          "base_uri": "https://localhost:8080/",
          "height": 430
        },
        "id": "vMUeMt_9nPlU",
        "outputId": "5933107c-061e-4278-ffe6-52f4ce948ba2"
      },
      "execution_count": null,
      "outputs": [
        {
          "output_type": "display_data",
          "data": {
            "text/plain": [
              "<Figure size 640x480 with 1 Axes>"
            ],
            "image/png": "[encoded data removed]"
          },
          "metadata": {}
        }
      ]
    },
    {
      "cell_type": "code",
      "source": [
        "KNN"
      ],
      "metadata": {
        "colab": {
          "base_uri": "https://localhost:8080/",
          "height": 75
        },
        "id": "MybatoDLozVN",
        "outputId": "46cab795-a3bc-40da-ebea-fb7c96040f1e"
      },
      "execution_count": null,
      "outputs": [
        {
          "output_type": "execute_result",
          "data": {
            "text/plain": [
              "KNeighborsClassifier(n_neighbors=7)"
            ],
            "text/html": [
              "<style>#sk-container-id-3 {color: black;background-color: white;}#sk-container-id-3 pre{padding: 0;}#sk-container-id-3 div.sk-toggleable {background-color: white;}#sk-container-id-3 label.sk-toggleable__label {cursor: pointer;display: block;width: 100%;margin-bottom: 0;padding: 0.3em;box-sizing: border-box;text-align: center;}#sk-container-id-3 label.sk-toggleable__label-arrow:before {content: \"▸\";float: left;margin-right: 0.25em;color: #696969;}#sk-container-id-3 label.sk-toggleable__label-arrow:hover:before {color: black;}#sk-container-id-3 div.sk-estimator:hover label.sk-toggleable__label-arrow:before {color: black;}#sk-container-id-3 div.sk-toggleable__content {max-height: 0;max-width: 0;overflow: hidden;text-align: left;background-color: #f0f8ff;}#sk-container-id-3 div.sk-toggleable__content pre {margin: 0.2em;color: black;border-radius: 0.25em;background-color: #f0f8ff;}#sk-container-id-3 input.sk-toggleable__control:checked~div.sk-toggleable__content {max-height: 200px;max-width: 100%;overflow: auto;}#sk-container-id-3 input.sk-toggleable__control:checked~label.sk-toggleable__label-arrow:before {content: \"▾\";}#sk-container-id-3 div.sk-estimator input.sk-toggleable__control:checked~label.sk-toggleable__label {background-color: #d4ebff;}#sk-container-id-3 div.sk-label input.sk-toggleable__control:checked~label.sk-toggleable__label {background-color: #d4ebff;}#sk-container-id-3 input.sk-hidden--visually {border: 0;clip: rect(1px 1px 1px 1px);clip: rect(1px, 1px, 1px, 1px);height: 1px;margin: -1px;overflow: hidden;padding: 0;position: absolute;width: 1px;}#sk-container-id-3 div.sk-estimator {font-family: monospace;background-color: #f0f8ff;border: 1px dotted black;border-radius: 0.25em;box-sizing: border-box;margin-bottom: 0.5em;}#sk-container-id-3 div.sk-estimator:hover {background-color: #d4ebff;}#sk-container-id-3 div.sk-parallel-item::after {content: \"\";width: 100%;border-bottom: 1px solid gray;flex-grow: 1;}#sk-container-id-3 div.sk-label:hover label.sk-toggleable__label {background-color: #d4ebff;}#sk-container-id-3 div.sk-serial::before {content: \"\";position: absolute;border-left: 1px solid gray;box-sizing: border-box;top: 0;bottom: 0;left: 50%;z-index: 0;}#sk-container-id-3 div.sk-serial {display: flex;flex-direction: column;align-items: center;background-color: white;padding-right: 0.2em;padding-left: 0.2em;position: relative;}#sk-container-id-3 div.sk-item {position: relative;z-index: 1;}#sk-container-id-3 div.sk-parallel {display: flex;align-items: stretch;justify-content: center;background-color: white;position: relative;}#sk-container-id-3 div.sk-item::before, #sk-container-id-3 div.sk-parallel-item::before {content: \"\";position: absolute;border-left: 1px solid gray;box-sizing: border-box;top: 0;bottom: 0;left: 50%;z-index: -1;}#sk-container-id-3 div.sk-parallel-item {display: flex;flex-direction: column;z-index: 1;position: relative;background-color: white;}#sk-container-id-3 div.sk-parallel-item:first-child::after {align-self: flex-end;width: 50%;}#sk-container-id-3 div.sk-parallel-item:last-child::after {align-self: flex-start;width: 50%;}#sk-container-id-3 div.sk-parallel-item:only-child::after {width: 0;}#sk-container-id-3 div.sk-dashed-wrapped {border: 1px dashed gray;margin: 0 0.4em 0.5em 0.4em;box-sizing: border-box;padding-bottom: 0.4em;background-color: white;}#sk-container-id-3 div.sk-label label {font-family: monospace;font-weight: bold;display: inline-block;line-height: 1.2em;}#sk-container-id-3 div.sk-label-container {text-align: center;}#sk-container-id-3 div.sk-container {/* jupyter's `normalize.less` sets `[hidden] { display: none; }` but bootstrap.min.css set `[hidden] { display: none !important; }` so we also need the `!important` here to be able to override the default hidden behavior on the sphinx rendered scikit-learn.org. See: https://github.com/scikit-learn/scikit-learn/issues/21755 */display: inline-block !important;position: relative;}#sk-container-id-3 div.sk-text-repr-fallback {display: none;}</style><div id=\"sk-container-id-3\" class=\"sk-top-container\"><div class=\"sk-text-repr-fallback\"><pre>KNeighborsClassifier(n_neighbors=7)</pre><b>In a Jupyter environment, please rerun this cell to show the HTML representation or trust the notebook. <br />On GitHub, the HTML representation is unable to render, please try loading this page with nbviewer.org.</b></div><div class=\"sk-container\" hidden><div class=\"sk-item\"><div class=\"sk-estimator sk-toggleable\"><input class=\"sk-toggleable__control sk-hidden--visually\" id=\"sk-estimator-id-3\" type=\"checkbox\" checked><label for=\"sk-estimator-id-3\" class=\"sk-toggleable__label sk-toggleable__label-arrow\">KNeighborsClassifier</label><div class=\"sk-toggleable__content\"><pre>KNeighborsClassifier(n_neighbors=7)</pre></div></div></div></div></div>"
            ]
          },
          "metadata": {},
          "execution_count": 68
        }
      ]
    },
    {
      "cell_type": "code",
      "source": [
        "KNN.predict(test1)"
      ],
      "metadata": {
        "colab": {
          "base_uri": "https://localhost:8080/"
        },
        "id": "XeUavBJLo0Zb",
        "outputId": "f6c93121-0f25-451b-9009-6b108d76983b"
      },
      "execution_count": null,
      "outputs": [
        {
          "output_type": "execute_result",
          "data": {
            "text/plain": [
              "array([3])"
            ]
          },
          "metadata": {},
          "execution_count": 91
        }
      ]
    },
    {
      "cell_type": "code",
      "source": [
        "import torch\n",
        "import torch.nn as nn\n",
        "import torch.optim as optim\n",
        "import numpy as np\n",
        "import matplotlib.pyplot as plt"
      ],
      "metadata": {
        "id": "TS49KOiL57vl"
      },
      "execution_count": null,
      "outputs": []
    },
    {
      "cell_type": "code",
      "source": [
        "np.random.seed(0)\n",
        "X = np.random.rand(100, 1)\n",
        "y = 2 * X + 1 + 0.1 * np.random.rand(100, 1)\n",
        "\n",
        "X_tensor = torch.tensor(X, dtype=torch.float32)\n",
        "y_tensor = torch.tensor(y, dtype=torch.float32)"
      ],
      "metadata": {
        "id": "5yorSklI6TbL"
      },
      "execution_count": null,
      "outputs": []
    },
    {
      "cell_type": "code",
      "source": [
        "\n",
        "class LinearRegressionModel(nn.Module):\n",
        "    def __init__(self):\n",
        "        super(LinearRegressionModel, self).__init__()\n",
        "        self.linear = nn.Linear(1, 1)"
      ],
      "metadata": {
        "id": "ABpMgmdUrAQK"
      },
      "execution_count": null,
      "outputs": []
    },
    {
      "cell_type": "code",
      "source": [
        "def forward(sekf, X):\n",
        "  return self.linear(x)\n"
      ],
      "metadata": {
        "id": "VRGqPjg76AM0"
      },
      "execution_count": null,
      "outputs": []
    },
    {
      "cell_type": "code",
      "source": [
        "model = LinearRegressionModel()"
      ],
      "metadata": {
        "id": "LTzQjf6i61iW"
      },
      "execution_count": null,
      "outputs": []
    },
    {
      "cell_type": "code",
      "source": [
        "criterion = nn.MSELoss()\n",
        "optimizer = optim.SGD(model.parameters(), lr=0.01)\n"
      ],
      "metadata": {
        "id": "7LTZdWwA4Emt"
      },
      "execution_count": null,
      "outputs": []
    },
    {
      "cell_type": "code",
      "source": [
        "zeros =  torch.zeros(size=(3,4))\n",
        "\n",
        "\n",
        "zeros, zeros.dtype"
      ],
      "metadata": {
        "colab": {
          "base_uri": "https://localhost:8080/"
        },
        "id": "Wm7fPi2kHKKq",
        "outputId": "675fa63d-a835-4dee-96ed-09e1b388fb05"
      },
      "execution_count": null,
      "outputs": [
        {
          "output_type": "execute_result",
          "data": {
            "text/plain": [
              "(tensor([[0., 0., 0., 0.],\n",
              "         [0., 0., 0., 0.],\n",
              "         [0., 0., 0., 0.]]),\n",
              " torch.float32)"
            ]
          },
          "metadata": {},
          "execution_count": 128
        }
      ]
    },
    {
      "cell_type": "code",
      "source": [
        "ones = torch.ones(size=(3,4))\n",
        "ones, ones.dtype"
      ],
      "metadata": {
        "colab": {
          "base_uri": "https://localhost:8080/"
        },
        "id": "fBxuLDVeYYFN",
        "outputId": "346ca1a6-fbf5-4d26-c7c9-b786e0e7004d"
      },
      "execution_count": null,
      "outputs": [
        {
          "output_type": "execute_result",
          "data": {
            "text/plain": [
              "(tensor([[1., 1., 1., 1.],\n",
              "         [1., 1., 1., 1.],\n",
              "         [1., 1., 1., 1.]]),\n",
              " torch.float32)"
            ]
          },
          "metadata": {},
          "execution_count": 132
        }
      ]
    },
    {
      "cell_type": "code",
      "source": [
        "zero_to_ten_deprecated = torch.range(0,10)\n",
        "zero_to_ten_deprecated"
      ],
      "metadata": {
        "colab": {
          "base_uri": "https://localhost:8080/"
        },
        "id": "dOtSGTOWYYV8",
        "outputId": "1bd96fee-1595-4f34-fe4f-9a34252541b9"
      },
      "execution_count": null,
      "outputs": [
        {
          "output_type": "stream",
          "name": "stderr",
          "text": [
            "<ipython-input-137-bb89a8424578>:1: UserWarning: torch.range is deprecated and will be removed in a future release because its behavior is inconsistent with Python's range builtin. Instead, use torch.arange, which produces values in [start, end).\n",
            "  zero_to_ten_deprecated = torch.range(0,10)\n"
          ]
        },
        {
          "output_type": "execute_result",
          "data": {
            "text/plain": [
              "tensor([ 0.,  1.,  2.,  3.,  4.,  5.,  6.,  7.,  8.,  9., 10.])"
            ]
          },
          "metadata": {},
          "execution_count": 137
        }
      ]
    },
    {
      "cell_type": "code",
      "source": [
        "zero_to_ten = torch.arange(start=0, end=10, step=1)\n",
        "zero_to_ten"
      ],
      "metadata": {
        "colab": {
          "base_uri": "https://localhost:8080/"
        },
        "id": "GfA_J29_YYdD",
        "outputId": "09265716-027a-4fee-cc54-87e279b29a59"
      },
      "execution_count": null,
      "outputs": [
        {
          "output_type": "execute_result",
          "data": {
            "text/plain": [
              "tensor([0, 1, 2, 3, 4, 5, 6, 7, 8, 9])"
            ]
          },
          "metadata": {},
          "execution_count": 136
        }
      ]
    },
    {
      "cell_type": "code",
      "source": [
        "ten_zeros = torch.zeros_like(input= zero_to_ten)\n",
        "ten_zeros\n"
      ],
      "metadata": {
        "colab": {
          "base_uri": "https://localhost:8080/"
        },
        "id": "5Ma37uJNYYj7",
        "outputId": "5bb76d05-b191-441c-b7dc-fd8c2e729efd"
      },
      "execution_count": null,
      "outputs": [
        {
          "output_type": "execute_result",
          "data": {
            "text/plain": [
              "tensor([0, 0, 0, 0, 0, 0, 0, 0, 0, 0])"
            ]
          },
          "metadata": {},
          "execution_count": 139
        }
      ]
    },
    {
      "cell_type": "code",
      "source": [
        "tensor = torch.tensor([1,2,3])\n",
        "tensor.shape"
      ],
      "metadata": {
        "colab": {
          "base_uri": "https://localhost:8080/"
        },
        "id": "GUEH6la7ZPsh",
        "outputId": "10f3b413-2363-48bf-9daf-5e324eef619a"
      },
      "execution_count": null,
      "outputs": [
        {
          "output_type": "execute_result",
          "data": {
            "text/plain": [
              "torch.Size([3])"
            ]
          },
          "metadata": {},
          "execution_count": 143
        }
      ]
    },
    {
      "cell_type": "code",
      "source": [
        "tensor * tensor"
      ],
      "metadata": {
        "colab": {
          "base_uri": "https://localhost:8080/"
        },
        "id": "1kRVS8tUZK5c",
        "outputId": "ee361643-1468-4b7f-9458-42ca5a45edb5"
      },
      "execution_count": null,
      "outputs": [
        {
          "output_type": "execute_result",
          "data": {
            "text/plain": [
              "tensor([1, 4, 9])"
            ]
          },
          "metadata": {},
          "execution_count": 144
        }
      ]
    },
    {
      "cell_type": "code",
      "source": [
        "torch.matmul(tensor,tensor)"
      ],
      "metadata": {
        "colab": {
          "base_uri": "https://localhost:8080/"
        },
        "id": "u-ja-Zx9Z2QP",
        "outputId": "01f7af57-a0bb-4dda-c942-d0bf2b3e6190"
      },
      "execution_count": null,
      "outputs": [
        {
          "output_type": "execute_result",
          "data": {
            "text/plain": [
              "tensor(14)"
            ]
          },
          "metadata": {},
          "execution_count": 145
        }
      ]
    },
    {
      "cell_type": "code",
      "source": [
        "tensor @ tensor"
      ],
      "metadata": {
        "colab": {
          "base_uri": "https://localhost:8080/"
        },
        "id": "E_XG0JzuaZTY",
        "outputId": "5938f4f9-7436-425a-ff69-f19433cac5d5"
      },
      "execution_count": null,
      "outputs": [
        {
          "output_type": "execute_result",
          "data": {
            "text/plain": [
              "tensor(14)"
            ]
          },
          "metadata": {},
          "execution_count": 147
        }
      ]
    },
    {
      "cell_type": "code",
      "source": [
        "value = 0\n",
        "for i in range (len(tensor)):\n",
        "  value += tensor[i] * tensor[i]\n",
        "value"
      ],
      "metadata": {
        "colab": {
          "base_uri": "https://localhost:8080/"
        },
        "id": "05t-7AcNagjO",
        "outputId": "8290cd9b-94f6-47c6-9ec7-7060b14263d8"
      },
      "execution_count": null,
      "outputs": [
        {
          "output_type": "execute_result",
          "data": {
            "text/plain": [
              "tensor(14)"
            ]
          },
          "metadata": {},
          "execution_count": 148
        }
      ]
    },
    {
      "cell_type": "code",
      "source": [
        "tensor_A = torch.tensor([[1,2],\n",
        "                        [3,4],\n",
        "                        [5,6]] , dtype = torch.float32)\n",
        "tensor_B = torch.tensor([[7,10],\n",
        "                        [8,11],\n",
        "                        [9,12]], dtype = torch.float32)\n",
        "\n",
        "\n"
      ],
      "metadata": {
        "id": "lmkvx4sEbCdV"
      },
      "execution_count": null,
      "outputs": []
    },
    {
      "cell_type": "code",
      "source": [
        "print(tensor_A)\n",
        "print(tensor_B)"
      ],
      "metadata": {
        "colab": {
          "base_uri": "https://localhost:8080/"
        },
        "id": "R60zAqSxbqLH",
        "outputId": "f225bdfa-f1f6-440f-9da7-aba20ffe7a81"
      },
      "execution_count": null,
      "outputs": [
        {
          "output_type": "stream",
          "name": "stdout",
          "text": [
            "tensor([[1., 2.],\n",
            "        [3., 4.],\n",
            "        [5., 6.]])\n",
            "tensor([[ 7., 10.],\n",
            "        [ 8., 11.],\n",
            "        [ 9., 12.]])\n"
          ]
        }
      ]
    },
    {
      "cell_type": "code",
      "source": [
        "print(tensor_A)\n",
        "print(tensor_B.T)"
      ],
      "metadata": {
        "colab": {
          "base_uri": "https://localhost:8080/"
        },
        "id": "mk_tcel2b8Bg",
        "outputId": "068d9d3d-2246-4b03-8571-7275d8df049f"
      },
      "execution_count": null,
      "outputs": [
        {
          "output_type": "stream",
          "name": "stdout",
          "text": [
            "tensor([[1., 2.],\n",
            "        [3., 4.],\n",
            "        [5., 6.]])\n",
            "tensor([[ 7.,  8.,  9.],\n",
            "        [10., 11., 12.]])\n"
          ]
        }
      ]
    },
    {
      "cell_type": "code",
      "source": [
        "print(f'Original shapes: tensor_A = {tensor_A.shape}, tensor_B={tensor_B.shape}\\n')\n",
        "print(f'New shapes : tensor_A = {tensor_A.shape}, tensor_B.T= {tensor_B.T}\\n')\n",
        "print(f'multplying: {tensor_A.shape} * {tensor_B.T.shape}\\n')\n",
        "print(\"Output: \\n\")\n",
        "output = torch.matmul(tensor_A, tensor_B.T)\n",
        "print(output)\n",
        "print(f\"\\noutput shape: {output.shape}\")"
      ],
      "metadata": {
        "colab": {
          "base_uri": "https://localhost:8080/"
        },
        "id": "vmgaOwQrcUUO",
        "outputId": "9ce863a8-d342-451f-946a-72b28f5afecb"
      },
      "execution_count": null,
      "outputs": [
        {
          "output_type": "stream",
          "name": "stdout",
          "text": [
            "Original shapes: tensor_A = torch.Size([3, 2]), tensor_B=torch.Size([3, 2])\n",
            "\n",
            "New shapes : tensor_A = torch.Size([3, 2]), tensor_B.T= tensor([[ 7.,  8.,  9.],\n",
            "        [10., 11., 12.]])\n",
            "\n",
            "multplying: torch.Size([3, 2]) * torch.Size([2, 3])\n",
            "\n",
            "Output: \n",
            "\n",
            "tensor([[ 27.,  30.,  33.],\n",
            "        [ 61.,  68.,  75.],\n",
            "        [ 95., 106., 117.]])\n",
            "\n",
            "output shape: torch.Size([3, 3])\n"
          ]
        }
      ]
    },
    {
      "cell_type": "code",
      "source": [
        "torch.manual_seed(42)\n",
        "\n",
        "linear = torch.nn.Linear(in_features = 2,\n",
        "                         out_features=6)\n",
        "\n",
        "x = tensor_A\n",
        "output = linear(x)\n",
        "output\n",
        "\n"
      ],
      "metadata": {
        "colab": {
          "base_uri": "https://localhost:8080/"
        },
        "id": "ncQmCAKycZw3",
        "outputId": "a5467065-2579-483c-9674-a61189ccce5c"
      },
      "execution_count": null,
      "outputs": [
        {
          "output_type": "execute_result",
          "data": {
            "text/plain": [
              "Linear(in_features=2, out_features=6, bias=True)"
            ]
          },
          "metadata": {},
          "execution_count": 166
        }
      ]
    },
    {
      "cell_type": "code",
      "source": [
        "x = torch.arange(1.,8.)\n",
        "x, x.shape"
      ],
      "metadata": {
        "colab": {
          "base_uri": "https://localhost:8080/"
        },
        "id": "SnZJFFDvieGe",
        "outputId": "21883682-5300-4a09-a5df-5bd8302b1fa7"
      },
      "execution_count": null,
      "outputs": [
        {
          "output_type": "execute_result",
          "data": {
            "text/plain": [
              "(tensor([1., 2., 3., 4., 5., 6., 7.]), torch.Size([7]))"
            ]
          },
          "metadata": {},
          "execution_count": 167
        }
      ]
    },
    {
      "cell_type": "code",
      "source": [
        "x_reshaped = x.reshape(1,7)\n",
        "x_reshaped , x_reshaped.shape"
      ],
      "metadata": {
        "colab": {
          "base_uri": "https://localhost:8080/"
        },
        "id": "4Vx8ZSjQip67",
        "outputId": "67593570-2faa-4d6d-8c38-6f8e1af56dcd"
      },
      "execution_count": null,
      "outputs": [
        {
          "output_type": "execute_result",
          "data": {
            "text/plain": [
              "(tensor([[1., 2., 3., 4., 5., 6., 7.]]), torch.Size([1, 7]))"
            ]
          },
          "metadata": {},
          "execution_count": 170
        }
      ]
    },
    {
      "cell_type": "code",
      "source": [
        "z = x.view(1,7)\n",
        "z, z.shape"
      ],
      "metadata": {
        "colab": {
          "base_uri": "https://localhost:8080/"
        },
        "id": "oUGAaNfbi5wV",
        "outputId": "d154778e-f598-4e25-be5f-a779229836f2"
      },
      "execution_count": null,
      "outputs": [
        {
          "output_type": "execute_result",
          "data": {
            "text/plain": [
              "(tensor([[1., 2., 3., 4., 5., 6., 7.]]), torch.Size([1, 7]))"
            ]
          },
          "metadata": {},
          "execution_count": 171
        }
      ]
    },
    {
      "cell_type": "code",
      "source": [
        "weight = 0.7\n",
        "bias = 0.3\n",
        "\n",
        "start = 0\n",
        "end  = 1\n",
        "step = 0.02\n",
        "\n",
        "X = torch.arange(start, end, step).unsqueeze(dim=1)\n",
        "y = weight * X + bias\n",
        "\n",
        "X[:10], y[:10]"
      ],
      "metadata": {
        "colab": {
          "base_uri": "https://localhost:8080/"
        },
        "id": "f8ZT-7jkjVJ2",
        "outputId": "4cc21b33-9894-457f-97f5-5c5d34e4afac"
      },
      "execution_count": null,
      "outputs": [
        {
          "output_type": "execute_result",
          "data": {
            "text/plain": [
              "(tensor([[0.0000],\n",
              "         [0.0200],\n",
              "         [0.0400],\n",
              "         [0.0600],\n",
              "         [0.0800],\n",
              "         [0.1000],\n",
              "         [0.1200],\n",
              "         [0.1400],\n",
              "         [0.1600],\n",
              "         [0.1800]]),\n",
              " tensor([[0.3000],\n",
              "         [0.3140],\n",
              "         [0.3280],\n",
              "         [0.3420],\n",
              "         [0.3560],\n",
              "         [0.3700],\n",
              "         [0.3840],\n",
              "         [0.3980],\n",
              "         [0.4120],\n",
              "         [0.4260]]))"
            ]
          },
          "metadata": {},
          "execution_count": 176
        }
      ]
    },
    {
      "cell_type": "code",
      "source": [
        "train_split = int(0.8 * len(X))\n",
        "X_train, y_train = X[:train_split], y[:train_split]\n",
        "X_test, y_test = X[train_split:], y[train_split:]\n",
        "\n",
        "len(X_train), len(y_train),len(X_test),len(y_test)"
      ],
      "metadata": {
        "colab": {
          "base_uri": "https://localhost:8080/"
        },
        "id": "3oYdlPxfjw90",
        "outputId": "6f766e2e-9c93-47d2-8e2c-a63fe13e4a6b"
      },
      "execution_count": null,
      "outputs": [
        {
          "output_type": "execute_result",
          "data": {
            "text/plain": [
              "(40, 40, 10, 10)"
            ]
          },
          "metadata": {},
          "execution_count": 179
        }
      ]
    },
    {
      "cell_type": "code",
      "source": [
        "def plot_predicitions(train_data=X_train,\n",
        "                     train_label=y_train,\n",
        "                     test_data=X_test,\n",
        "                     test_label=y_test,\n",
        "                     predicitions = None):\n",
        "  plt.figure(figsize=(10,7))\n",
        "  plt.scatter(train_data, train_label, c=\"b\", s=4 , label=\"training data\")\n",
        "\n",
        "  if predicitions is not None:\n",
        "    plt.scatter(test_data, predicition, c=\"r\", s=4, label=\"Predicitions\")\n",
        "\n",
        "  plt.legend(prop={\"size\": 14})"
      ],
      "metadata": {
        "id": "JtKqPdzvlkRM"
      },
      "execution_count": null,
      "outputs": []
    },
    {
      "cell_type": "code",
      "source": [
        "plot_predicitions()"
      ],
      "metadata": {
        "colab": {
          "base_uri": "https://localhost:8080/",
          "height": 599
        },
        "id": "YwU6_jhxlkXT",
        "outputId": "d712a03e-bd92-4060-effa-01729699800c"
      },
      "execution_count": null,
      "outputs": [
        {
          "output_type": "display_data",
          "data": {
            "text/plain": [
              "<Figure size 1000x700 with 1 Axes>"
            ],
            "image/png": "[encoded data removed]"
          },
          "metadata": {}
        }
      ]
    },
    {
      "cell_type": "code",
      "source": [
        "class LinearRegressionModel(nn.Module):\n",
        "  def __init__(self):\n",
        "    super().__init__()\n",
        "    self.weights = nn.Parameter(torch.randn(1,\n",
        "                                            dtype= torch.float), requires_grad=True)\n",
        "    self.bias = nn.parameter(roch.randn(1,\n",
        "                                        dtype=torch.float),\n",
        "                             requires_grad=True)\n",
        "\n",
        "  def forward(self, x: torch.Tensor) -> torch.Tensor:\n",
        "    return self.weights * x + self.bias"
      ],
      "metadata": {
        "id": "AqKAtLL0zSlD"
      },
      "execution_count": null,
      "outputs": []
    },
    {
      "cell_type": "code",
      "source": [
        "import keras\n",
        "from sklearn import datasets\n",
        "from sklearn import model_selection\n",
        "from keras import models\n",
        "from keras import layers\n",
        "import numpy as np\n",
        "import matplotlib.pyplot as plt\n"
      ],
      "metadata": {
        "id": "McDLEj9HzSzK"
      },
      "execution_count": null,
      "outputs": []
    },
    {
      "cell_type": "code",
      "source": [
        "seed = 12356\n",
        "np.random.seed(seed)"
      ],
      "metadata": {
        "id": "T7dwpX8ZrD2K"
      },
      "execution_count": null,
      "outputs": []
    },
    {
      "cell_type": "code",
      "source": [
        "X,y = datasets.make_moons(n_samples=1500, shuffle=True, noise = 0.3, random_state=seed)"
      ],
      "metadata": {
        "id": "nXda-gcUrM84"
      },
      "execution_count": null,
      "outputs": []
    },
    {
      "cell_type": "code",
      "source": [
        "print(y[0:5])"
      ],
      "metadata": {
        "colab": {
          "base_uri": "https://localhost:8080/"
        },
        "id": "3uZHprUVreAf",
        "outputId": "bfeca596-d664-4e7d-ea43-948b97d44716"
      },
      "execution_count": null,
      "outputs": [
        {
          "output_type": "stream",
          "name": "stdout",
          "text": [
            "[1 0 1 0 1]\n"
          ]
        }
      ]
    },
    {
      "cell_type": "code",
      "source": [
        "plt.figure()\n",
        "plt.scatter(X[:,0], X[:,1], c=y)"
      ],
      "metadata": {
        "colab": {
          "base_uri": "https://localhost:8080/",
          "height": 447
        },
        "id": "1Vhvwf-VrJO5",
        "outputId": "4ecc8885-207f-47a1-d264-5afb48e545a0"
      },
      "execution_count": null,
      "outputs": [
        {
          "output_type": "execute_result",
          "data": {
            "text/plain": [
              "<matplotlib.collections.PathCollection at 0x79eace046050>"
            ]
          },
          "metadata": {},
          "execution_count": 15
        },
        {
          "output_type": "display_data",
          "data": {
            "text/plain": [
              "<Figure size 640x480 with 1 Axes>"
            ],
            "image/png": "[encoded data removed]"
          },
          "metadata": {}
        }
      ]
    },
    {
      "cell_type": "code",
      "source": [
        "model = models.Sequential()"
      ],
      "metadata": {
        "id": "Rwq7vGALsEaC"
      },
      "execution_count": null,
      "outputs": []
    },
    {
      "cell_type": "code",
      "source": [
        "nb_neurone_input = 1\n",
        "nb_neurone_output = 1"
      ],
      "metadata": {
        "id": "9qwtfAIfsIOw"
      },
      "execution_count": null,
      "outputs": []
    },
    {
      "cell_type": "code",
      "source": [
        "model.add(layers.Dense(1, input_dim = 2, activation ='sigmoidm'))"
      ],
      "metadata": {
        "id": "q7Lan2nSsObS"
      },
      "execution_count": null,
      "outputs": []
    },
    {
      "cell_type": "code",
      "source": [
        "model.add(layers.Dense(1, activation='sigmoid'))"
      ],
      "metadata": {
        "id": "HzjoRHGmsZ_5"
      },
      "execution_count": null,
      "outputs": []
    },
    {
      "cell_type": "code",
      "source": [
        "model.compile(loss='binary_crossentropy', optimizer='adam', metrics=['accuracy'])"
      ],
      "metadata": {
        "id": "ER_mmi4Psgp0"
      },
      "execution_count": null,
      "outputs": []
    },
    {
      "cell_type": "code",
      "source": [
        "model.summary()"
      ],
      "metadata": {
        "colab": {
          "base_uri": "https://localhost:8080/"
        },
        "id": "r6lxcnnWsiB1",
        "outputId": "7861ed8a-7461-4315-d089-05c99b77653c"
      },
      "execution_count": null,
      "outputs": [
        {
          "output_type": "stream",
          "name": "stdout",
          "text": [
            "Model: \"sequential\"\n",
            "_________________________________________________________________\n",
            " Layer (type)                Output Shape              Param #   \n",
            "=================================================================\n",
            " dense (Dense)               (None, 1)                 3         \n",
            "                                                                 \n",
            " dense_1 (Dense)             (None, 1)                 2         \n",
            "                                                                 \n",
            "=================================================================\n",
            "Total params: 5 (20.00 Byte)\n",
            "Trainable params: 5 (20.00 Byte)\n",
            "Non-trainable params: 0 (0.00 Byte)\n",
            "_________________________________________________________________\n"
          ]
        }
      ]
    }
  ]
}